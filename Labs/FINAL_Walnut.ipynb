{
 "cells": [
  {
   "cell_type": "markdown",
   "id": "bc77ae16",
   "metadata": {},
   "source": [
    "## Background"
   ]
  },
  {
   "cell_type": "markdown",
   "id": "29c56ddd",
   "metadata": {},
   "source": [
    "Load libraries and dataset\n",
    "\n",
    "Describe dataset in a few sentences."
   ]
  },
  {
   "cell_type": "markdown",
   "id": "d7b55906",
   "metadata": {},
   "source": [
    "## Exploratory data analysis"
   ]
  },
  {
   "cell_type": "markdown",
   "id": "50e3325a",
   "metadata": {},
   "source": [
    "Unique counts per column"
   ]
  },
  {
   "cell_type": "markdown",
   "id": "be8dc425",
   "metadata": {},
   "source": [
    "Any null values that exist in each column"
   ]
  },
  {
   "cell_type": "markdown",
   "id": "09987aab",
   "metadata": {},
   "source": [
    "Histogram for each column"
   ]
  },
  {
   "cell_type": "markdown",
   "id": "d4e1c1a2",
   "metadata": {},
   "source": [
    "pharmacy data -- show it is okay to drop pharmacy"
   ]
  },
  {
   "cell_type": "markdown",
   "id": "37d8ceb5",
   "metadata": {},
   "source": [
    "Bin/pcn/group -- show why we end up just using bin"
   ]
  },
  {
   "cell_type": "markdown",
   "id": "4f1548bc",
   "metadata": {},
   "source": [
    "Date -- show why we switched to DOY"
   ]
  },
  {
   "cell_type": "markdown",
   "id": "a42859a0",
   "metadata": {},
   "source": [
    "Relationship between rejected and $0. Why we dropped rejected == TRUE"
   ]
  },
  {
   "cell_type": "markdown",
   "id": "1ad802f6",
   "metadata": {},
   "source": [
    "## Data pre-processing"
   ]
  },
  {
   "cell_type": "markdown",
   "id": "deec2e47",
   "metadata": {},
   "source": [
    "Dropping of columns"
   ]
  },
  {
   "cell_type": "markdown",
   "id": "37cabfa6",
   "metadata": {},
   "source": [
    "Creating drug new drug column"
   ]
  },
  {
   "cell_type": "markdown",
   "id": "1e3afb72",
   "metadata": {},
   "source": [
    "Creating the 10% training sets"
   ]
  },
  {
   "cell_type": "markdown",
   "id": "b18c8b6e",
   "metadata": {},
   "source": [
    "## Testing of different models"
   ]
  },
  {
   "cell_type": "markdown",
   "id": "2066336b",
   "metadata": {},
   "source": [
    "Linear Regression"
   ]
  },
  {
   "cell_type": "markdown",
   "id": "379d4b30",
   "metadata": {},
   "source": [
    "Decision Tree"
   ]
  },
  {
   "cell_type": "markdown",
   "id": "435be9f9",
   "metadata": {},
   "source": [
    "Random Forest"
   ]
  },
  {
   "cell_type": "markdown",
   "id": "914c1f03",
   "metadata": {},
   "source": [
    "Adaboost"
   ]
  },
  {
   "cell_type": "markdown",
   "id": "ae742136",
   "metadata": {},
   "source": [
    "Gradient Boosting"
   ]
  },
  {
   "cell_type": "markdown",
   "id": "bb8d8d59",
   "metadata": {},
   "source": [
    "Final RMSE and RMLSE"
   ]
  }
 ],
 "metadata": {
  "kernelspec": {
   "display_name": "Python 3 (ipykernel)",
   "language": "python",
   "name": "python3"
  },
  "language_info": {
   "codemirror_mode": {
    "name": "ipython",
    "version": 3
   },
   "file_extension": ".py",
   "mimetype": "text/x-python",
   "name": "python",
   "nbconvert_exporter": "python",
   "pygments_lexer": "ipython3",
   "version": "3.9.12"
  }
 },
 "nbformat": 4,
 "nbformat_minor": 5
}
