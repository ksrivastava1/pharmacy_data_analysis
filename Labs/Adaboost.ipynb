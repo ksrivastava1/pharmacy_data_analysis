{
 "cells": [
  {
   "cell_type": "code",
   "execution_count": 1,
   "metadata": {
    "id": "C911MYvWGOov"
   },
   "outputs": [],
   "source": [
    "import pandas as pd\n",
    "import numpy as np\n",
    "import matplotlib.pyplot as plt\n",
    "import seaborn as sns\n",
    "import os\n",
    "\n",
    "%matplotlib inline"
   ]
  },
  {
   "cell_type": "code",
   "execution_count": 2,
   "metadata": {},
   "outputs": [],
   "source": [
    "os.chdir('/Users/tian/Dropbox/erdo-bootcamp/CoverMyMed')"
   ]
  },
  {
   "cell_type": "code",
   "execution_count": 3,
   "metadata": {
    "id": "kuI32B9YGOwy"
   },
   "outputs": [],
   "source": [
    "claims = pd.read_csv('pharmacy_tx.csv')"
   ]
  },
  {
   "cell_type": "code",
   "execution_count": 4,
   "metadata": {
    "colab": {
     "base_uri": "https://localhost:8080/"
    },
    "id": "sHsPEfXEH3YP",
    "outputId": "516a841d-e790-4e2e-aacc-294ed30a8215"
   },
   "outputs": [
    {
     "name": "stdout",
     "output_type": "stream",
     "text": [
      "<class 'pandas.core.frame.DataFrame'>\n",
      "RangeIndex: 13910244 entries, 0 to 13910243\n",
      "Data columns (total 9 columns):\n",
      " #   Column       Dtype  \n",
      "---  ------       -----  \n",
      " 0   tx_date      object \n",
      " 1   pharmacy     object \n",
      " 2   diagnosis    object \n",
      " 3   drug         object \n",
      " 4   bin          int64  \n",
      " 5   pcn          object \n",
      " 6   group        object \n",
      " 7   rejected     bool   \n",
      " 8   patient_pay  float64\n",
      "dtypes: bool(1), float64(1), int64(1), object(6)\n",
      "memory usage: 862.3+ MB\n"
     ]
    }
   ],
   "source": [
    "claims.info()"
   ]
  },
  {
   "cell_type": "code",
   "execution_count": 5,
   "metadata": {
    "id": "OosKcfJ5JWkx"
   },
   "outputs": [],
   "source": [
    "def feature_info(feature):\n",
    "    descr = {'tx_date': 'The date on which the pharmacy transaction was attempted',\n",
    "             'pharmacy': 'The particular pharmacy where the transaction was attempted',\n",
    "             'diagnosis': 'The diagnosis of the patient associated with the transaction',\n",
    "             'drug': 'The drug that the patient was prescribed that the pharmacy is attempting to bill',\n",
    "             'bin': 'The broadest identifier of a patient’s insurance plan (banking identification number)',\n",
    "             'pcn': 'An identifier that more narrowly specifies a plan underneath the broader \"bin\"',\n",
    "             'group': 'Another identifier that more narrowly specifies a plan underneath the broader \"bin\"',\n",
    "             'rejected': 'Whether the billing transaction was rejected by the plan',\n",
    "             'patient_pay': 'The amount of copayment for which the patient is responsible'}\n",
    "    return descr[feature]"
   ]
  },
  {
   "cell_type": "code",
   "execution_count": null,
   "metadata": {},
   "outputs": [],
   "source": []
  },
  {
   "cell_type": "markdown",
   "metadata": {},
   "source": [
    "Becuase of the memory issue, we have to drop columns further. We have agreed on keeping the features below. "
   ]
  },
  {
   "cell_type": "code",
   "execution_count": 6,
   "metadata": {},
   "outputs": [
    {
     "data": {
      "text/html": [
       "<div>\n",
       "<style scoped>\n",
       "    .dataframe tbody tr th:only-of-type {\n",
       "        vertical-align: middle;\n",
       "    }\n",
       "\n",
       "    .dataframe tbody tr th {\n",
       "        vertical-align: top;\n",
       "    }\n",
       "\n",
       "    .dataframe thead th {\n",
       "        text-align: right;\n",
       "    }\n",
       "</style>\n",
       "<table border=\"1\" class=\"dataframe\">\n",
       "  <thead>\n",
       "    <tr style=\"text-align: right;\">\n",
       "      <th></th>\n",
       "      <th>pharmacy</th>\n",
       "      <th>diagnosis</th>\n",
       "      <th>drug</th>\n",
       "      <th>bin</th>\n",
       "      <th>pcn</th>\n",
       "      <th>group</th>\n",
       "      <th>rejected</th>\n",
       "      <th>patient_pay</th>\n",
       "      <th>day</th>\n",
       "    </tr>\n",
       "  </thead>\n",
       "  <tbody>\n",
       "    <tr>\n",
       "      <th>0</th>\n",
       "      <td>Pharmacy #6</td>\n",
       "      <td>G99.93</td>\n",
       "      <td>branded tanoclolol</td>\n",
       "      <td>725700</td>\n",
       "      <td>1UQC</td>\n",
       "      <td>NaN</td>\n",
       "      <td>False</td>\n",
       "      <td>13.39</td>\n",
       "      <td>2</td>\n",
       "    </tr>\n",
       "    <tr>\n",
       "      <th>1</th>\n",
       "      <td>Pharmacy #42</td>\n",
       "      <td>U60.52</td>\n",
       "      <td>branded oxasoted</td>\n",
       "      <td>664344</td>\n",
       "      <td>NaN</td>\n",
       "      <td>52H8KH0F83K</td>\n",
       "      <td>False</td>\n",
       "      <td>7.02</td>\n",
       "      <td>2</td>\n",
       "    </tr>\n",
       "    <tr>\n",
       "      <th>2</th>\n",
       "      <td>Pharmacy #37</td>\n",
       "      <td>Q85.91</td>\n",
       "      <td>branded cupitelol</td>\n",
       "      <td>725700</td>\n",
       "      <td>1UQC</td>\n",
       "      <td>NaN</td>\n",
       "      <td>False</td>\n",
       "      <td>13.39</td>\n",
       "      <td>2</td>\n",
       "    </tr>\n",
       "    <tr>\n",
       "      <th>3</th>\n",
       "      <td>Pharmacy #30</td>\n",
       "      <td>U60.52</td>\n",
       "      <td>generic oxasoted</td>\n",
       "      <td>571569</td>\n",
       "      <td>KB38N</td>\n",
       "      <td>6BYJBW</td>\n",
       "      <td>False</td>\n",
       "      <td>10.84</td>\n",
       "      <td>2</td>\n",
       "    </tr>\n",
       "    <tr>\n",
       "      <th>4</th>\n",
       "      <td>Pharmacy #18</td>\n",
       "      <td>N55.01</td>\n",
       "      <td>branded mamate</td>\n",
       "      <td>664344</td>\n",
       "      <td>NaN</td>\n",
       "      <td>ZX2QUWR</td>\n",
       "      <td>False</td>\n",
       "      <td>47.00</td>\n",
       "      <td>2</td>\n",
       "    </tr>\n",
       "  </tbody>\n",
       "</table>\n",
       "</div>"
      ],
      "text/plain": [
       "       pharmacy diagnosis                drug     bin    pcn        group  \\\n",
       "0   Pharmacy #6    G99.93  branded tanoclolol  725700   1UQC          NaN   \n",
       "1  Pharmacy #42    U60.52    branded oxasoted  664344    NaN  52H8KH0F83K   \n",
       "2  Pharmacy #37    Q85.91   branded cupitelol  725700   1UQC          NaN   \n",
       "3  Pharmacy #30    U60.52    generic oxasoted  571569  KB38N       6BYJBW   \n",
       "4  Pharmacy #18    N55.01      branded mamate  664344    NaN      ZX2QUWR   \n",
       "\n",
       "   rejected  patient_pay  day  \n",
       "0     False        13.39    2  \n",
       "1     False         7.02    2  \n",
       "2     False        13.39    2  \n",
       "3     False        10.84    2  \n",
       "4     False        47.00    2  "
      ]
     },
     "execution_count": 6,
     "metadata": {},
     "output_type": "execute_result"
    }
   ],
   "source": [
    "claims['day'] = pd.to_datetime(claims.tx_date).apply(lambda x: x.dayofyear)\n",
    "claims = claims.drop(columns = ['tx_date'])\n",
    "claims.head()"
   ]
  },
  {
   "cell_type": "code",
   "execution_count": 7,
   "metadata": {},
   "outputs": [
    {
     "data": {
      "text/plain": [
       "364"
      ]
     },
     "execution_count": 7,
     "metadata": {},
     "output_type": "execute_result"
    }
   ],
   "source": [
    "claims['day'].max()"
   ]
  },
  {
   "cell_type": "code",
   "execution_count": 8,
   "metadata": {},
   "outputs": [
    {
     "data": {
      "text/plain": [
       "<AxesSubplot:xlabel='day'>"
      ]
     },
     "execution_count": 8,
     "metadata": {},
     "output_type": "execute_result"
    },
    {
     "data": {
      "image/png": "[encoded data removed]",
      "text/plain": [
       "<Figure size 432x288 with 1 Axes>"
      ]
     },
     "metadata": {
      "needs_background": "light"
     },
     "output_type": "display_data"
    }
   ],
   "source": [
    "claims.groupby(by = 'day')['patient_pay'].mean().plot()\n"
   ]
  },
  {
   "cell_type": "code",
   "execution_count": 7,
   "metadata": {},
   "outputs": [],
   "source": [
    "claims = claims[claims['rejected']==False]"
   ]
  },
  {
   "cell_type": "code",
   "execution_count": 8,
   "metadata": {},
   "outputs": [],
   "source": [
    "claims = claims.drop(columns = ['pharmacy', 'group', 'pcn', 'rejected'])\n",
    "claims['bin '] = claims['bin'].map(str)\n",
    "# claims.head()"
   ]
  },
  {
   "cell_type": "code",
   "execution_count": 9,
   "metadata": {},
   "outputs": [],
   "source": [
    "claims['drug_type'] = claims['drug'].apply(lambda x: x.split(' ')[0])\n",
    "claims['drug'] = claims['drug'].apply(lambda x: x.split(' ')[1])\n",
    "# claims.head()"
   ]
  },
  {
   "cell_type": "code",
   "execution_count": 10,
   "metadata": {},
   "outputs": [],
   "source": [
    "claims = claims[['day', 'drug_type', 'drug', 'diagnosis', 'bin', 'patient_pay']]\n"
   ]
  },
  {
   "cell_type": "code",
   "execution_count": 11,
   "metadata": {},
   "outputs": [],
   "source": [
    "X = claims.copy()\n",
    "y = X.iloc[:,-1]\n",
    "X = X.drop(columns = ['patient_pay'])\n",
    "\n",
    "X['bin'] = X['bin'].map(str)\n",
    "\n",
    "X = pd.get_dummies(X, drop_first = True)\n"
   ]
  },
  {
   "cell_type": "code",
   "execution_count": null,
   "metadata": {},
   "outputs": [],
   "source": []
  },
  {
   "cell_type": "code",
   "execution_count": null,
   "metadata": {},
   "outputs": [],
   "source": []
  },
  {
   "cell_type": "markdown",
   "metadata": {},
   "source": [
    "### Models to explore\n",
    "\n",
    "- Boosted Trees Regresstion (Adaboost)\n"
   ]
  },
  {
   "cell_type": "code",
   "execution_count": 18,
   "metadata": {},
   "outputs": [],
   "source": [
    "from sklearn.model_selection import train_test_split\n",
    "from sklearn.metrics import mean_absolute_error,mean_squared_error,mean_squared_log_error\n",
    "from joblib import dump"
   ]
  },
  {
   "cell_type": "code",
   "execution_count": 13,
   "metadata": {
    "id": "Froesym0SRn2"
   },
   "outputs": [],
   "source": [
    "X_train, X_test, y_train, y_test = train_test_split(X,y, test_size = 0.2, random_state = 42)"
   ]
  },
  {
   "cell_type": "code",
   "execution_count": 19,
   "metadata": {},
   "outputs": [],
   "source": [
    "def relu(x):\n",
    "    return max(0,x)\n",
    "    \n",
    "def run_model_samples(model, X_train, y_train, X_test, y_test, n_samples, sample_prop):\n",
    "    preds = np.zeros((n_samples, len(y_test)))\n",
    "    for i in range(n_samples):\n",
    "        #Get random subset\n",
    "        I = np.random.choice(X_train.index, size = int(sample_prop*len(X_train)), replace = False)\n",
    "\n",
    "        #Get sub-datasets\n",
    "        X_tt, y_tt = X_train.loc[I], y_train.loc[I]\n",
    "        \n",
    "        # Fit Model\n",
    "        model.fit(X_tt,y_tt)\n",
    "    \n",
    "        # Get Prediction for each sample\n",
    "        preds[i] = np.array(list(map(relu,model.predict(X_test))))\n",
    "            \n",
    "    #Average predictions\n",
    "    avg_preds = np.mean(preds, axis = 0)\n",
    "    \n",
    "    #Calculate KPIs of average predictions\n",
    "    rmse = np.sqrt(mean_squared_error(y_test, avg_preds))\n",
    "    print(f'RMSE : {rmse}')\n",
    "    rmsle = mean_squared_log_error(y_test, avg_preds, squared = False)\n",
    "    print(f'RMLSE: {rmsle}')"
   ]
  },
  {
   "cell_type": "markdown",
   "metadata": {},
   "source": [
    "### Adaboost"
   ]
  },
  {
   "cell_type": "code",
   "execution_count": 15,
   "metadata": {},
   "outputs": [],
   "source": [
    "from sklearn.ensemble import AdaBoostRegressor"
   ]
  },
  {
   "cell_type": "code",
   "execution_count": 16,
   "metadata": {},
   "outputs": [],
   "source": [
    "abr_model = AdaBoostRegressor()"
   ]
  },
  {
   "cell_type": "code",
   "execution_count": 20,
   "metadata": {},
   "outputs": [
    {
     "name": "stdout",
     "output_type": "stream",
     "text": [
      "RMSE : 37.81272847948041\n",
      "RMLSE: 1.1312026476637838\n"
     ]
    }
   ],
   "source": [
    "run_model_samples(abr_model,X_train,y_train,X_test,y_test,10,0.1)"
   ]
  },
  {
   "cell_type": "code",
   "execution_count": null,
   "metadata": {},
   "outputs": [],
   "source": []
  }
 ],
 "metadata": {
  "colab": {
   "collapsed_sections": [],
   "provenance": []
  },
  "kernelspec": {
   "display_name": "Python 3 (ipykernel)",
   "language": "python",
   "name": "python3"
  },
  "language_info": {
   "codemirror_mode": {
    "name": "ipython",
    "version": 3
   },
   "file_extension": ".py",
   "mimetype": "text/x-python",
   "name": "python",
   "nbconvert_exporter": "python",
   "pygments_lexer": "ipython3",
   "version": "3.7.1"
  }
 },
 "nbformat": 4,
 "nbformat_minor": 1
}
