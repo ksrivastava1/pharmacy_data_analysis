{
 "cells": [
  {
   "cell_type": "markdown",
   "id": "fe801d54",
   "metadata": {},
   "source": [
    "This notebook compares our best model -- random forest -- to the baseline model."
   ]
  },
  {
   "cell_type": "markdown",
   "id": "6d1e9d52",
   "metadata": {},
   "source": [
    "# Pre-processing"
   ]
  },
  {
   "cell_type": "code",
   "execution_count": 151,
   "id": "06df35e2",
   "metadata": {},
   "outputs": [],
   "source": [
    "import pandas as pd\n",
    "import numpy as np\n",
    "import seaborn as sns\n",
    "import matplotlib.pyplot as plt\n",
    "from sklearn.neighbors import KNeighborsRegressor\n",
    "from sklearn.tree import DecisionTreeRegressor \n",
    "from sklearn.model_selection import train_test_split\n",
    "from sklearn.metrics import mean_squared_error\n",
    "from sklearn.metrics import mean_squared_log_error\n",
    "from datetime import datetime\n",
    "from datetime import date"
   ]
  },
  {
   "cell_type": "code",
   "execution_count": 152,
   "id": "c6e966ed",
   "metadata": {},
   "outputs": [
    {
     "data": {
      "text/html": [
       "<div>\n",
       "<style scoped>\n",
       "    .dataframe tbody tr th:only-of-type {\n",
       "        vertical-align: middle;\n",
       "    }\n",
       "\n",
       "    .dataframe tbody tr th {\n",
       "        vertical-align: top;\n",
       "    }\n",
       "\n",
       "    .dataframe thead th {\n",
       "        text-align: right;\n",
       "    }\n",
       "</style>\n",
       "<table border=\"1\" class=\"dataframe\">\n",
       "  <thead>\n",
       "    <tr style=\"text-align: right;\">\n",
       "      <th></th>\n",
       "      <th>tx_date</th>\n",
       "      <th>pharmacy</th>\n",
       "      <th>diagnosis</th>\n",
       "      <th>drug</th>\n",
       "      <th>bin</th>\n",
       "      <th>pcn</th>\n",
       "      <th>group</th>\n",
       "      <th>rejected</th>\n",
       "      <th>patient_pay</th>\n",
       "    </tr>\n",
       "  </thead>\n",
       "  <tbody>\n",
       "    <tr>\n",
       "      <th>0</th>\n",
       "      <td>2022-01-02</td>\n",
       "      <td>Pharmacy #6</td>\n",
       "      <td>G99.93</td>\n",
       "      <td>branded tanoclolol</td>\n",
       "      <td>725700</td>\n",
       "      <td>1UQC</td>\n",
       "      <td>NaN</td>\n",
       "      <td>False</td>\n",
       "      <td>13.39</td>\n",
       "    </tr>\n",
       "    <tr>\n",
       "      <th>1</th>\n",
       "      <td>2022-01-02</td>\n",
       "      <td>Pharmacy #42</td>\n",
       "      <td>U60.52</td>\n",
       "      <td>branded oxasoted</td>\n",
       "      <td>664344</td>\n",
       "      <td>NaN</td>\n",
       "      <td>52H8KH0F83K</td>\n",
       "      <td>False</td>\n",
       "      <td>7.02</td>\n",
       "    </tr>\n",
       "    <tr>\n",
       "      <th>2</th>\n",
       "      <td>2022-01-02</td>\n",
       "      <td>Pharmacy #37</td>\n",
       "      <td>Q85.91</td>\n",
       "      <td>branded cupitelol</td>\n",
       "      <td>725700</td>\n",
       "      <td>1UQC</td>\n",
       "      <td>NaN</td>\n",
       "      <td>False</td>\n",
       "      <td>13.39</td>\n",
       "    </tr>\n",
       "    <tr>\n",
       "      <th>3</th>\n",
       "      <td>2022-01-02</td>\n",
       "      <td>Pharmacy #30</td>\n",
       "      <td>U60.52</td>\n",
       "      <td>generic oxasoted</td>\n",
       "      <td>571569</td>\n",
       "      <td>KB38N</td>\n",
       "      <td>6BYJBW</td>\n",
       "      <td>False</td>\n",
       "      <td>10.84</td>\n",
       "    </tr>\n",
       "    <tr>\n",
       "      <th>4</th>\n",
       "      <td>2022-01-02</td>\n",
       "      <td>Pharmacy #18</td>\n",
       "      <td>N55.01</td>\n",
       "      <td>branded mamate</td>\n",
       "      <td>664344</td>\n",
       "      <td>NaN</td>\n",
       "      <td>ZX2QUWR</td>\n",
       "      <td>False</td>\n",
       "      <td>47.00</td>\n",
       "    </tr>\n",
       "  </tbody>\n",
       "</table>\n",
       "</div>"
      ],
      "text/plain": [
       "      tx_date      pharmacy diagnosis                drug     bin    pcn  \\\n",
       "0  2022-01-02   Pharmacy #6    G99.93  branded tanoclolol  725700   1UQC   \n",
       "1  2022-01-02  Pharmacy #42    U60.52    branded oxasoted  664344    NaN   \n",
       "2  2022-01-02  Pharmacy #37    Q85.91   branded cupitelol  725700   1UQC   \n",
       "3  2022-01-02  Pharmacy #30    U60.52    generic oxasoted  571569  KB38N   \n",
       "4  2022-01-02  Pharmacy #18    N55.01      branded mamate  664344    NaN   \n",
       "\n",
       "         group  rejected  patient_pay  \n",
       "0          NaN     False        13.39  \n",
       "1  52H8KH0F83K     False         7.02  \n",
       "2          NaN     False        13.39  \n",
       "3       6BYJBW     False        10.84  \n",
       "4      ZX2QUWR     False        47.00  "
      ]
     },
     "execution_count": 152,
     "metadata": {},
     "output_type": "execute_result"
    }
   ],
   "source": [
    "#create dataframe\n",
    "df = pd.read_csv(\"../Data/pharmacy_tx.csv\")\n",
    "df.head()"
   ]
  },
  {
   "cell_type": "code",
   "execution_count": 153,
   "id": "6bb99152",
   "metadata": {},
   "outputs": [],
   "source": [
    "def get_doy(d):\n",
    "    return d.dayofyear"
   ]
  },
  {
   "cell_type": "code",
   "execution_count": 154,
   "id": "1007354b",
   "metadata": {},
   "outputs": [
    {
     "data": {
      "text/html": [
       "<div>\n",
       "<style scoped>\n",
       "    .dataframe tbody tr th:only-of-type {\n",
       "        vertical-align: middle;\n",
       "    }\n",
       "\n",
       "    .dataframe tbody tr th {\n",
       "        vertical-align: top;\n",
       "    }\n",
       "\n",
       "    .dataframe thead th {\n",
       "        text-align: right;\n",
       "    }\n",
       "</style>\n",
       "<table border=\"1\" class=\"dataframe\">\n",
       "  <thead>\n",
       "    <tr style=\"text-align: right;\">\n",
       "      <th></th>\n",
       "      <th>pharmacy</th>\n",
       "      <th>diagnosis</th>\n",
       "      <th>drug</th>\n",
       "      <th>bin</th>\n",
       "      <th>pcn</th>\n",
       "      <th>group</th>\n",
       "      <th>rejected</th>\n",
       "      <th>patient_pay</th>\n",
       "      <th>day</th>\n",
       "    </tr>\n",
       "  </thead>\n",
       "  <tbody>\n",
       "    <tr>\n",
       "      <th>0</th>\n",
       "      <td>Pharmacy #6</td>\n",
       "      <td>G99.93</td>\n",
       "      <td>branded tanoclolol</td>\n",
       "      <td>725700</td>\n",
       "      <td>1UQC</td>\n",
       "      <td>NaN</td>\n",
       "      <td>False</td>\n",
       "      <td>13.39</td>\n",
       "      <td>2</td>\n",
       "    </tr>\n",
       "    <tr>\n",
       "      <th>1</th>\n",
       "      <td>Pharmacy #42</td>\n",
       "      <td>U60.52</td>\n",
       "      <td>branded oxasoted</td>\n",
       "      <td>664344</td>\n",
       "      <td>NaN</td>\n",
       "      <td>52H8KH0F83K</td>\n",
       "      <td>False</td>\n",
       "      <td>7.02</td>\n",
       "      <td>2</td>\n",
       "    </tr>\n",
       "    <tr>\n",
       "      <th>2</th>\n",
       "      <td>Pharmacy #37</td>\n",
       "      <td>Q85.91</td>\n",
       "      <td>branded cupitelol</td>\n",
       "      <td>725700</td>\n",
       "      <td>1UQC</td>\n",
       "      <td>NaN</td>\n",
       "      <td>False</td>\n",
       "      <td>13.39</td>\n",
       "      <td>2</td>\n",
       "    </tr>\n",
       "    <tr>\n",
       "      <th>3</th>\n",
       "      <td>Pharmacy #30</td>\n",
       "      <td>U60.52</td>\n",
       "      <td>generic oxasoted</td>\n",
       "      <td>571569</td>\n",
       "      <td>KB38N</td>\n",
       "      <td>6BYJBW</td>\n",
       "      <td>False</td>\n",
       "      <td>10.84</td>\n",
       "      <td>2</td>\n",
       "    </tr>\n",
       "    <tr>\n",
       "      <th>4</th>\n",
       "      <td>Pharmacy #18</td>\n",
       "      <td>N55.01</td>\n",
       "      <td>branded mamate</td>\n",
       "      <td>664344</td>\n",
       "      <td>NaN</td>\n",
       "      <td>ZX2QUWR</td>\n",
       "      <td>False</td>\n",
       "      <td>47.00</td>\n",
       "      <td>2</td>\n",
       "    </tr>\n",
       "  </tbody>\n",
       "</table>\n",
       "</div>"
      ],
      "text/plain": [
       "       pharmacy diagnosis                drug     bin    pcn        group  \\\n",
       "0   Pharmacy #6    G99.93  branded tanoclolol  725700   1UQC          NaN   \n",
       "1  Pharmacy #42    U60.52    branded oxasoted  664344    NaN  52H8KH0F83K   \n",
       "2  Pharmacy #37    Q85.91   branded cupitelol  725700   1UQC          NaN   \n",
       "3  Pharmacy #30    U60.52    generic oxasoted  571569  KB38N       6BYJBW   \n",
       "4  Pharmacy #18    N55.01      branded mamate  664344    NaN      ZX2QUWR   \n",
       "\n",
       "   rejected  patient_pay  day  \n",
       "0     False        13.39    2  \n",
       "1     False         7.02    2  \n",
       "2     False        13.39    2  \n",
       "3     False        10.84    2  \n",
       "4     False        47.00    2  "
      ]
     },
     "execution_count": 154,
     "metadata": {},
     "output_type": "execute_result"
    }
   ],
   "source": [
    "#convert date to integer between 1 and 365\n",
    "df['day'] = pd.to_datetime(df.tx_date).apply(get_doy)\n",
    "df = df.drop(columns = ['tx_date'])\n",
    "df.head()"
   ]
  },
  {
   "cell_type": "code",
   "execution_count": 155,
   "id": "2afa7db1",
   "metadata": {},
   "outputs": [],
   "source": [
    "#drop rejected column\n",
    "df = df[df['rejected']==False]\n",
    "df = df.drop(columns = ['rejected'])"
   ]
  },
  {
   "cell_type": "code",
   "execution_count": 156,
   "id": "be59ecd1",
   "metadata": {},
   "outputs": [
    {
     "data": {
      "text/html": [
       "<div>\n",
       "<style scoped>\n",
       "    .dataframe tbody tr th:only-of-type {\n",
       "        vertical-align: middle;\n",
       "    }\n",
       "\n",
       "    .dataframe tbody tr th {\n",
       "        vertical-align: top;\n",
       "    }\n",
       "\n",
       "    .dataframe thead th {\n",
       "        text-align: right;\n",
       "    }\n",
       "</style>\n",
       "<table border=\"1\" class=\"dataframe\">\n",
       "  <thead>\n",
       "    <tr style=\"text-align: right;\">\n",
       "      <th></th>\n",
       "      <th>diagnosis</th>\n",
       "      <th>drug</th>\n",
       "      <th>bin</th>\n",
       "      <th>patient_pay</th>\n",
       "      <th>day</th>\n",
       "    </tr>\n",
       "  </thead>\n",
       "  <tbody>\n",
       "    <tr>\n",
       "      <th>0</th>\n",
       "      <td>G99.93</td>\n",
       "      <td>branded tanoclolol</td>\n",
       "      <td>725700</td>\n",
       "      <td>13.39</td>\n",
       "      <td>2</td>\n",
       "    </tr>\n",
       "    <tr>\n",
       "      <th>1</th>\n",
       "      <td>U60.52</td>\n",
       "      <td>branded oxasoted</td>\n",
       "      <td>664344</td>\n",
       "      <td>7.02</td>\n",
       "      <td>2</td>\n",
       "    </tr>\n",
       "    <tr>\n",
       "      <th>2</th>\n",
       "      <td>Q85.91</td>\n",
       "      <td>branded cupitelol</td>\n",
       "      <td>725700</td>\n",
       "      <td>13.39</td>\n",
       "      <td>2</td>\n",
       "    </tr>\n",
       "    <tr>\n",
       "      <th>3</th>\n",
       "      <td>U60.52</td>\n",
       "      <td>generic oxasoted</td>\n",
       "      <td>571569</td>\n",
       "      <td>10.84</td>\n",
       "      <td>2</td>\n",
       "    </tr>\n",
       "    <tr>\n",
       "      <th>4</th>\n",
       "      <td>N55.01</td>\n",
       "      <td>branded mamate</td>\n",
       "      <td>664344</td>\n",
       "      <td>47.00</td>\n",
       "      <td>2</td>\n",
       "    </tr>\n",
       "  </tbody>\n",
       "</table>\n",
       "</div>"
      ],
      "text/plain": [
       "  diagnosis                drug     bin  patient_pay  day\n",
       "0    G99.93  branded tanoclolol  725700        13.39    2\n",
       "1    U60.52    branded oxasoted  664344         7.02    2\n",
       "2    Q85.91   branded cupitelol  725700        13.39    2\n",
       "3    U60.52    generic oxasoted  571569        10.84    2\n",
       "4    N55.01      branded mamate  664344        47.00    2"
      ]
     },
     "execution_count": 156,
     "metadata": {},
     "output_type": "execute_result"
    }
   ],
   "source": [
    "#drop additional extraneous columns; convert bin to str so that one-hot encoding works correctly\n",
    "df = df.drop(columns = ['pharmacy', 'group', 'pcn'])\n",
    "df['bin'] = df['bin'].map(str)\n",
    "df.head()"
   ]
  },
  {
   "cell_type": "code",
   "execution_count": 157,
   "id": "2c056f88",
   "metadata": {
    "scrolled": true
   },
   "outputs": [
    {
     "data": {
      "text/html": [
       "<div>\n",
       "<style scoped>\n",
       "    .dataframe tbody tr th:only-of-type {\n",
       "        vertical-align: middle;\n",
       "    }\n",
       "\n",
       "    .dataframe tbody tr th {\n",
       "        vertical-align: top;\n",
       "    }\n",
       "\n",
       "    .dataframe thead th {\n",
       "        text-align: right;\n",
       "    }\n",
       "</style>\n",
       "<table border=\"1\" class=\"dataframe\">\n",
       "  <thead>\n",
       "    <tr style=\"text-align: right;\">\n",
       "      <th></th>\n",
       "      <th>diagnosis</th>\n",
       "      <th>drug</th>\n",
       "      <th>bin</th>\n",
       "      <th>patient_pay</th>\n",
       "      <th>day</th>\n",
       "      <th>drug_type</th>\n",
       "    </tr>\n",
       "  </thead>\n",
       "  <tbody>\n",
       "    <tr>\n",
       "      <th>0</th>\n",
       "      <td>G99.93</td>\n",
       "      <td>tanoclolol</td>\n",
       "      <td>725700</td>\n",
       "      <td>13.39</td>\n",
       "      <td>2</td>\n",
       "      <td>branded</td>\n",
       "    </tr>\n",
       "    <tr>\n",
       "      <th>1</th>\n",
       "      <td>U60.52</td>\n",
       "      <td>oxasoted</td>\n",
       "      <td>664344</td>\n",
       "      <td>7.02</td>\n",
       "      <td>2</td>\n",
       "      <td>branded</td>\n",
       "    </tr>\n",
       "    <tr>\n",
       "      <th>2</th>\n",
       "      <td>Q85.91</td>\n",
       "      <td>cupitelol</td>\n",
       "      <td>725700</td>\n",
       "      <td>13.39</td>\n",
       "      <td>2</td>\n",
       "      <td>branded</td>\n",
       "    </tr>\n",
       "    <tr>\n",
       "      <th>3</th>\n",
       "      <td>U60.52</td>\n",
       "      <td>oxasoted</td>\n",
       "      <td>571569</td>\n",
       "      <td>10.84</td>\n",
       "      <td>2</td>\n",
       "      <td>generic</td>\n",
       "    </tr>\n",
       "    <tr>\n",
       "      <th>4</th>\n",
       "      <td>N55.01</td>\n",
       "      <td>mamate</td>\n",
       "      <td>664344</td>\n",
       "      <td>47.00</td>\n",
       "      <td>2</td>\n",
       "      <td>branded</td>\n",
       "    </tr>\n",
       "  </tbody>\n",
       "</table>\n",
       "</div>"
      ],
      "text/plain": [
       "  diagnosis        drug     bin  patient_pay  day drug_type\n",
       "0    G99.93  tanoclolol  725700        13.39    2   branded\n",
       "1    U60.52    oxasoted  664344         7.02    2   branded\n",
       "2    Q85.91   cupitelol  725700        13.39    2   branded\n",
       "3    U60.52    oxasoted  571569        10.84    2   generic\n",
       "4    N55.01      mamate  664344        47.00    2   branded"
      ]
     },
     "execution_count": 157,
     "metadata": {},
     "output_type": "execute_result"
    }
   ],
   "source": [
    "#make a column for branded/generic\n",
    "df['drug_type'] = df['drug'].apply(lambda x: x.split(' ')[0])\n",
    "df['drug'] = df['drug'].apply(lambda x: x.split(' ')[1])\n",
    "df.head()"
   ]
  },
  {
   "cell_type": "code",
   "execution_count": 158,
   "id": "6d438d8f",
   "metadata": {},
   "outputs": [],
   "source": [
    "#separate out X and y\n",
    "df= df[['day', 'drug_type', 'drug', 'diagnosis', 'bin', 'patient_pay']]\n",
    "X = df.copy()\n",
    "y = X.iloc[:,-1]\n",
    "X = X.drop(columns = ['patient_pay'])"
   ]
  },
  {
   "cell_type": "code",
   "execution_count": 159,
   "id": "d96ac019",
   "metadata": {},
   "outputs": [],
   "source": [
    "#one-hot encoding\n",
    "X = pd.get_dummies(X, drop_first = True)"
   ]
  },
  {
   "cell_type": "code",
   "execution_count": 160,
   "id": "b57fc1b7",
   "metadata": {},
   "outputs": [],
   "source": [
    "#train-test split\n",
    "X_train, X_test, y_train, y_test = train_test_split(X,y, test_size = 0.2, random_state = 42)"
   ]
  },
  {
   "cell_type": "code",
   "execution_count": 161,
   "id": "23062763",
   "metadata": {},
   "outputs": [
    {
     "data": {
      "text/html": [
       "<div>\n",
       "<style scoped>\n",
       "    .dataframe tbody tr th:only-of-type {\n",
       "        vertical-align: middle;\n",
       "    }\n",
       "\n",
       "    .dataframe tbody tr th {\n",
       "        vertical-align: top;\n",
       "    }\n",
       "\n",
       "    .dataframe thead th {\n",
       "        text-align: right;\n",
       "    }\n",
       "</style>\n",
       "<table border=\"1\" class=\"dataframe\">\n",
       "  <thead>\n",
       "    <tr style=\"text-align: right;\">\n",
       "      <th></th>\n",
       "      <th>day</th>\n",
       "      <th>drug_type_generic</th>\n",
       "      <th>drug_bovirol</th>\n",
       "      <th>drug_brede</th>\n",
       "      <th>drug_choxestamenium</th>\n",
       "      <th>drug_cibroniudosin</th>\n",
       "      <th>drug_cicrochoric</th>\n",
       "      <th>drug_colade</th>\n",
       "      <th>drug_colifunene</th>\n",
       "      <th>drug_cupitelol</th>\n",
       "      <th>...</th>\n",
       "      <th>bin_539437</th>\n",
       "      <th>bin_571569</th>\n",
       "      <th>bin_664344</th>\n",
       "      <th>bin_691847</th>\n",
       "      <th>bin_718350</th>\n",
       "      <th>bin_725700</th>\n",
       "      <th>bin_756120</th>\n",
       "      <th>bin_757349</th>\n",
       "      <th>bin_956971</th>\n",
       "      <th>bin_96934</th>\n",
       "    </tr>\n",
       "  </thead>\n",
       "  <tbody>\n",
       "    <tr>\n",
       "      <th>5197337</th>\n",
       "      <td>146</td>\n",
       "      <td>0</td>\n",
       "      <td>0</td>\n",
       "      <td>0</td>\n",
       "      <td>0</td>\n",
       "      <td>0</td>\n",
       "      <td>0</td>\n",
       "      <td>0</td>\n",
       "      <td>0</td>\n",
       "      <td>0</td>\n",
       "      <td>...</td>\n",
       "      <td>0</td>\n",
       "      <td>0</td>\n",
       "      <td>0</td>\n",
       "      <td>0</td>\n",
       "      <td>0</td>\n",
       "      <td>0</td>\n",
       "      <td>0</td>\n",
       "      <td>0</td>\n",
       "      <td>0</td>\n",
       "      <td>0</td>\n",
       "    </tr>\n",
       "    <tr>\n",
       "      <th>643154</th>\n",
       "      <td>20</td>\n",
       "      <td>0</td>\n",
       "      <td>1</td>\n",
       "      <td>0</td>\n",
       "      <td>0</td>\n",
       "      <td>0</td>\n",
       "      <td>0</td>\n",
       "      <td>0</td>\n",
       "      <td>0</td>\n",
       "      <td>0</td>\n",
       "      <td>...</td>\n",
       "      <td>0</td>\n",
       "      <td>0</td>\n",
       "      <td>1</td>\n",
       "      <td>0</td>\n",
       "      <td>0</td>\n",
       "      <td>0</td>\n",
       "      <td>0</td>\n",
       "      <td>0</td>\n",
       "      <td>0</td>\n",
       "      <td>0</td>\n",
       "    </tr>\n",
       "    <tr>\n",
       "      <th>11999316</th>\n",
       "      <td>317</td>\n",
       "      <td>0</td>\n",
       "      <td>0</td>\n",
       "      <td>0</td>\n",
       "      <td>0</td>\n",
       "      <td>0</td>\n",
       "      <td>0</td>\n",
       "      <td>0</td>\n",
       "      <td>0</td>\n",
       "      <td>0</td>\n",
       "      <td>...</td>\n",
       "      <td>0</td>\n",
       "      <td>0</td>\n",
       "      <td>1</td>\n",
       "      <td>0</td>\n",
       "      <td>0</td>\n",
       "      <td>0</td>\n",
       "      <td>0</td>\n",
       "      <td>0</td>\n",
       "      <td>0</td>\n",
       "      <td>0</td>\n",
       "    </tr>\n",
       "    <tr>\n",
       "      <th>2548632</th>\n",
       "      <td>75</td>\n",
       "      <td>1</td>\n",
       "      <td>0</td>\n",
       "      <td>0</td>\n",
       "      <td>0</td>\n",
       "      <td>0</td>\n",
       "      <td>0</td>\n",
       "      <td>0</td>\n",
       "      <td>0</td>\n",
       "      <td>0</td>\n",
       "      <td>...</td>\n",
       "      <td>0</td>\n",
       "      <td>0</td>\n",
       "      <td>1</td>\n",
       "      <td>0</td>\n",
       "      <td>0</td>\n",
       "      <td>0</td>\n",
       "      <td>0</td>\n",
       "      <td>0</td>\n",
       "      <td>0</td>\n",
       "      <td>0</td>\n",
       "    </tr>\n",
       "    <tr>\n",
       "      <th>13471059</th>\n",
       "      <td>351</td>\n",
       "      <td>0</td>\n",
       "      <td>0</td>\n",
       "      <td>0</td>\n",
       "      <td>0</td>\n",
       "      <td>0</td>\n",
       "      <td>0</td>\n",
       "      <td>0</td>\n",
       "      <td>0</td>\n",
       "      <td>0</td>\n",
       "      <td>...</td>\n",
       "      <td>0</td>\n",
       "      <td>0</td>\n",
       "      <td>0</td>\n",
       "      <td>0</td>\n",
       "      <td>0</td>\n",
       "      <td>0</td>\n",
       "      <td>0</td>\n",
       "      <td>1</td>\n",
       "      <td>0</td>\n",
       "      <td>0</td>\n",
       "    </tr>\n",
       "  </tbody>\n",
       "</table>\n",
       "<p>5 rows × 221 columns</p>\n",
       "</div>"
      ],
      "text/plain": [
       "          day  drug_type_generic  drug_bovirol  drug_brede  \\\n",
       "5197337   146                  0             0           0   \n",
       "643154     20                  0             1           0   \n",
       "11999316  317                  0             0           0   \n",
       "2548632    75                  1             0           0   \n",
       "13471059  351                  0             0           0   \n",
       "\n",
       "          drug_choxestamenium  drug_cibroniudosin  drug_cicrochoric  \\\n",
       "5197337                     0                   0                 0   \n",
       "643154                      0                   0                 0   \n",
       "11999316                    0                   0                 0   \n",
       "2548632                     0                   0                 0   \n",
       "13471059                    0                   0                 0   \n",
       "\n",
       "          drug_colade  drug_colifunene  drug_cupitelol  ...  bin_539437  \\\n",
       "5197337             0                0               0  ...           0   \n",
       "643154              0                0               0  ...           0   \n",
       "11999316            0                0               0  ...           0   \n",
       "2548632             0                0               0  ...           0   \n",
       "13471059            0                0               0  ...           0   \n",
       "\n",
       "          bin_571569  bin_664344  bin_691847  bin_718350  bin_725700  \\\n",
       "5197337            0           0           0           0           0   \n",
       "643154             0           1           0           0           0   \n",
       "11999316           0           1           0           0           0   \n",
       "2548632            0           1           0           0           0   \n",
       "13471059           0           0           0           0           0   \n",
       "\n",
       "          bin_756120  bin_757349  bin_956971  bin_96934  \n",
       "5197337            0           0           0          0  \n",
       "643154             0           0           0          0  \n",
       "11999316           0           0           0          0  \n",
       "2548632            0           0           0          0  \n",
       "13471059           0           1           0          0  \n",
       "\n",
       "[5 rows x 221 columns]"
      ]
     },
     "execution_count": 161,
     "metadata": {},
     "output_type": "execute_result"
    }
   ],
   "source": [
    "X_train.head()"
   ]
  },
  {
   "cell_type": "markdown",
   "id": "392c16d1",
   "metadata": {},
   "source": [
    "# Random Forest"
   ]
  },
  {
   "cell_type": "code",
   "execution_count": 162,
   "id": "54121862",
   "metadata": {},
   "outputs": [],
   "source": [
    "from sklearn.ensemble import RandomForestRegressor"
   ]
  },
  {
   "cell_type": "code",
   "execution_count": 163,
   "id": "e17578db",
   "metadata": {},
   "outputs": [],
   "source": [
    "#fits model on sample_prop proportion of the data n_sample times. Makes predictions on test set, and averages\n",
    "#to produce a single prediction. Returns KPIs of prediction.\n",
    "\n",
    "def run_model_samples(model, X_train, y_train, X_test, y_test, n_samples, sample_prop):\n",
    "    preds = np.zeros((n_samples, len(y_test)))\n",
    "    for i in range(n_samples):\n",
    "        #Get random subset\n",
    "        I = np.random.choice(X_train.index, size = int(sample_prop*len(X_train)), replace = False)\n",
    "\n",
    "        #Get sub-datasets\n",
    "        X_tt, y_tt = X_train.loc[I], y_train.loc[I]\n",
    "        \n",
    "        # Fit Model\n",
    "        model.fit(X_tt,y_tt)\n",
    "    \n",
    "        # Get Prediction for each sample\n",
    "        preds[i] = np.array(list(map(relu,model.predict(X_test))))\n",
    "    \n",
    "    #Average predictions\n",
    "    avg_preds = np.mean(preds, axis = 0)\n",
    "    \n",
    "    #Calculate KPIs of average predictions\n",
    "    rmse = np.sqrt(mean_squared_error(y_test, avg_preds))\n",
    "    print(f'RMSE : {rmse}')\n",
    "    rmsle = mean_squared_log_error(y_test, avg_preds, squared = False)\n",
    "    print(f'RMLSE: {rmsle}')\n",
    "    return avg_preds"
   ]
  },
  {
   "cell_type": "code",
   "execution_count": 164,
   "id": "9edd08c5",
   "metadata": {},
   "outputs": [],
   "source": [
    "def relu(x):\n",
    "    return max(0,x)"
   ]
  },
  {
   "cell_type": "code",
   "execution_count": 165,
   "id": "701ee96b",
   "metadata": {},
   "outputs": [],
   "source": [
    "avg_models = {}"
   ]
  },
  {
   "cell_type": "code",
   "execution_count": 168,
   "id": "83bc2967",
   "metadata": {},
   "outputs": [
    {
     "name": "stdout",
     "output_type": "stream",
     "text": [
      "RMSE : 15.669115249120003\n",
      "RMLSE: 0.3431662078386997\n"
     ]
    }
   ],
   "source": [
    "#Construct RF model (with 10 trees)\n",
    "n =10\n",
    "rfr_model = RandomForestRegressor(n_estimators=n)\n",
    "avg_models[n] = run_model_samples(rfr_model, X_train, y_train, X_test, y_test, 10, 0.1)"
   ]
  },
  {
   "cell_type": "markdown",
   "id": "c9eb9c67",
   "metadata": {},
   "source": [
    "# Comparing Errors of RF Model and Baseline Model"
   ]
  },
  {
   "cell_type": "code",
   "execution_count": 182,
   "id": "4e79e15f",
   "metadata": {},
   "outputs": [],
   "source": [
    "#Compute error of RF model\n",
    "y_pred = avg_models[10]\n",
    "y_err = y_pred - y_test"
   ]
  },
  {
   "cell_type": "code",
   "execution_count": 184,
   "id": "a55bac4f",
   "metadata": {
    "scrolled": true
   },
   "outputs": [
    {
     "data": {
      "text/plain": [
       "<AxesSubplot:>"
      ]
     },
     "execution_count": 184,
     "metadata": {},
     "output_type": "execute_result"
    },
    {
     "data": {
      "image/png": "[encoded data removed]",
      "text/plain": [
       "<Figure size 640x480 with 1 Axes>"
      ]
     },
     "metadata": {},
     "output_type": "display_data"
    }
   ],
   "source": [
    "#Plot errors \n",
    "y_err.hist()"
   ]
  },
  {
   "cell_type": "markdown",
   "id": "04dbc1e7",
   "metadata": {},
   "source": [
    "There seem to be some extreme outliers -- need to narrow the range to get clearer picture of shape."
   ]
  },
  {
   "cell_type": "code",
   "execution_count": 195,
   "id": "efd5f346",
   "metadata": {},
   "outputs": [
    {
     "data": {
      "text/plain": [
       "(array([  6339.,   6888.,   8275.,  11284.,  14289.,  17250.,  19650.,\n",
       "         27430.,  30806.,  38304.,  42406.,  53226.,  65510.,  81820.,\n",
       "         98148., 164595., 298200., 585744., 183095., 129548., 107092.,\n",
       "         78798.,  60294.,  43409.,  35224.,  28570.,  25116.,  20427.,\n",
       "         14519.,  11953.]),\n",
       " array([-13.01278357, -12.2544174 , -11.49605123, -10.73768506,\n",
       "         -9.9793189 ,  -9.22095273,  -8.46258656,  -7.70422039,\n",
       "         -6.94585423,  -6.18748806,  -5.42912189,  -4.67075572,\n",
       "         -3.91238956,  -3.15402339,  -2.39565722,  -1.63729105,\n",
       "         -0.87892489,  -0.12055872,   0.63780745,   1.39617361,\n",
       "          2.15453978,   2.91290595,   3.67127212,   4.42963828,\n",
       "          5.18800445,   5.94637062,   6.70473679,   7.46310295,\n",
       "          8.22146912,   8.97983529,   9.73820146]),\n",
       " <BarContainer object of 30 artists>)"
      ]
     },
     "execution_count": 195,
     "metadata": {},
     "output_type": "execute_result"
    },
    {
     "data": {
      "image/png": "[encoded data removed]",
      "text/plain": [
       "<Figure size 640x480 with 1 Axes>"
      ]
     },
     "metadata": {},
     "output_type": "display_data"
    }
   ],
   "source": [
    "#Histogram of middle 90% of RF errors\n",
    "plt.hist(y_err, range=(np.percentile(y_err, 5), np.percentile(y_err,95)), bins=30)"
   ]
  },
  {
   "cell_type": "code",
   "execution_count": 216,
   "id": "058b8188",
   "metadata": {},
   "outputs": [
    {
     "data": {
      "text/plain": [
       "Text(0.5, 1.0, 'Random Forest Precition Error Boxplot')"
      ]
     },
     "execution_count": 216,
     "metadata": {},
     "output_type": "execute_result"
    },
    {
     "data": {
      "image/png": "[encoded data removed]",
      "text/plain": [
       "<Figure size 640x480 with 1 Axes>"
      ]
     },
     "metadata": {},
     "output_type": "display_data"
    }
   ],
   "source": [
    "#Boxplot of RF errors\n",
    "plt.boxplot(y_err, showfliers = False)\n",
    "plt.title('Random Forest Precition Error Boxplot')"
   ]
  },
  {
   "cell_type": "code",
   "execution_count": 205,
   "id": "d93df246",
   "metadata": {},
   "outputs": [
    {
     "data": {
      "text/plain": [
       "(-458.76550499999996, 515.460065)"
      ]
     },
     "execution_count": 205,
     "metadata": {},
     "output_type": "execute_result"
    }
   ],
   "source": [
    "#Biggest RF errors\n",
    "min(y_err), max(y_err)"
   ]
  },
  {
   "cell_type": "code",
   "execution_count": 225,
   "id": "53ce4d3d",
   "metadata": {
    "scrolled": false
   },
   "outputs": [
    {
     "data": {
      "text/plain": [
       "(15.525708123359909, -16.528956945598846)"
      ]
     },
     "execution_count": 225,
     "metadata": {},
     "output_type": "execute_result"
    }
   ],
   "source": [
    "#About 90% of errors are < 16, which is about what the RMSE is. Shows the impact of outliers on RMSE.\n",
    "np.percentile(y_err, 96.5), np.percentile(y_err, 4)"
   ]
  },
  {
   "cell_type": "code",
   "execution_count": 215,
   "id": "e74aeae3",
   "metadata": {
    "scrolled": false
   },
   "outputs": [
    {
     "data": {
      "text/plain": [
       "Text(0.5, 1.0, 'Random Forest Prediction Error by Percentile')"
      ]
     },
     "execution_count": 215,
     "metadata": {},
     "output_type": "execute_result"
    },
    {
     "data": {
      "image/png": "[encoded data removed]",
      "text/plain": [
       "<Figure size 640x480 with 1 Axes>"
      ]
     },
     "metadata": {},
     "output_type": "display_data"
    }
   ],
   "source": [
    "#Percentile curve for RF error\n",
    "plt.plot(np.arange(1,100), [np.percentile(y_err,i) for i in range(1,100)])\n",
    "plt.xlabel('Percentile')\n",
    "plt.ylabel('Random Forest Prediction Error')\n",
    "plt.title('Random Forest Prediction Error by Percentile')"
   ]
  },
  {
   "cell_type": "code",
   "execution_count": 231,
   "id": "582191a1",
   "metadata": {},
   "outputs": [],
   "source": [
    "#Constructs baseline predictions.\n",
    "avg_pay = np.mean(y_train)\n",
    "baseline_pred = avg_pay*np.ones_like(y_test)"
   ]
  },
  {
   "cell_type": "code",
   "execution_count": 232,
   "id": "73198735",
   "metadata": {},
   "outputs": [],
   "source": [
    "#Computes baseline error\n",
    "baseline_err = baseline_pred-y_test"
   ]
  },
  {
   "cell_type": "code",
   "execution_count": 233,
   "id": "9ada20b7",
   "metadata": {
    "scrolled": false
   },
   "outputs": [
    {
     "data": {
      "text/plain": [
       "Text(0.5, 1.0, 'Baseline Prediction Error by Percentile')"
      ]
     },
     "execution_count": 233,
     "metadata": {},
     "output_type": "execute_result"
    },
    {
     "data": {
      "image/png": "[encoded data removed]",
      "text/plain": [
       "<Figure size 640x480 with 1 Axes>"
      ]
     },
     "metadata": {},
     "output_type": "display_data"
    }
   ],
   "source": [
    "#Percentile curve for baseline error\n",
    "plt.plot(np.arange(1,100), [np.percentile(baseline_err,i) for i in range(1,100)])\n",
    "plt.xlabel('Percentile')\n",
    "plt.ylabel('Baseline Prediction Error')\n",
    "plt.title('Baseline Prediction Error by Percentile')"
   ]
  },
  {
   "cell_type": "code",
   "execution_count": 240,
   "id": "35bb0c8a",
   "metadata": {},
   "outputs": [
    {
     "data": {
      "text/plain": [
       "Text(0.5, 1.0, 'Baseline Precition Error Boxplot')"
      ]
     },
     "execution_count": 240,
     "metadata": {},
     "output_type": "execute_result"
    },
    {
     "data": {
      "image/png": "[encoded data removed]",
      "text/plain": [
       "<Figure size 640x480 with 1 Axes>"
      ]
     },
     "metadata": {},
     "output_type": "display_data"
    }
   ],
   "source": [
    "#Box plot for baseline error\n",
    "plt.boxplot(baseline_err, showfliers = False)\n",
    "plt.title('Baseline Precition Error Boxplot')"
   ]
  },
  {
   "cell_type": "code",
   "execution_count": 271,
   "id": "ea3995f3",
   "metadata": {},
   "outputs": [],
   "source": [
    "from scipy.stats import skew\n",
    "from scipy.stats import kurtosis"
   ]
  },
  {
   "cell_type": "code",
   "execution_count": 242,
   "id": "943f1800",
   "metadata": {},
   "outputs": [
    {
     "data": {
      "text/plain": [
       "40.54467763756898"
      ]
     },
     "execution_count": 242,
     "metadata": {},
     "output_type": "execute_result"
    }
   ],
   "source": [
    "#Comparing some more summary statistics\n",
    "np.var(baseline_err), np.skew(baseline_err)"
   ]
  },
  {
   "cell_type": "code",
   "execution_count": 245,
   "id": "4726997b",
   "metadata": {},
   "outputs": [
    {
     "data": {
      "text/plain": [
       "3.5164950706733973"
      ]
     },
     "execution_count": 245,
     "metadata": {},
     "output_type": "execute_result"
    }
   ],
   "source": [
    "skew(y_err)"
   ]
  },
  {
   "cell_type": "code",
   "execution_count": 246,
   "id": "c3250205",
   "metadata": {},
   "outputs": [
    {
     "data": {
      "text/plain": [
       "-5.176648461083766"
      ]
     },
     "execution_count": 246,
     "metadata": {},
     "output_type": "execute_result"
    }
   ],
   "source": [
    "skew(baseline_err)"
   ]
  },
  {
   "cell_type": "code",
   "execution_count": 249,
   "id": "18d32849",
   "metadata": {},
   "outputs": [
    {
     "data": {
      "text/plain": [
       "120.74730259908642"
      ]
     },
     "execution_count": 249,
     "metadata": {},
     "output_type": "execute_result"
    }
   ],
   "source": [
    "kurtosis(y_err)"
   ]
  },
  {
   "cell_type": "code",
   "execution_count": 251,
   "id": "88e408f3",
   "metadata": {},
   "outputs": [
    {
     "data": {
      "text/plain": [
       "40.61886572333926"
      ]
     },
     "execution_count": 251,
     "metadata": {},
     "output_type": "execute_result"
    }
   ],
   "source": [
    "kurtosis(baseline_err)"
   ]
  },
  {
   "cell_type": "code",
   "execution_count": 254,
   "id": "d3d02e6a",
   "metadata": {},
   "outputs": [],
   "source": [
    "X_test['baseline_err'] = baseline_err"
   ]
  },
  {
   "cell_type": "code",
   "execution_count": 264,
   "id": "6d4e16f3",
   "metadata": {
    "scrolled": true
   },
   "outputs": [],
   "source": [
    "#Finding middle-98% cut-offs for RF, baseline errors\n",
    "err_min,err_max = np.percentile(y_err, 1), np.percentile(y_err, 99)\n",
    "berr_min, berr_max = np.percentile(baseline_err, 1), np.percentile(baseline_err, 99)"
   ]
  },
  {
   "cell_type": "code",
   "execution_count": 265,
   "id": "ea0b56ea",
   "metadata": {
    "collapsed": true
   },
   "outputs": [
    {
     "name": "stderr",
     "output_type": "stream",
     "text": [
      "/var/folders/6h/7cf12br100q1zq0whpzs2tc00000gn/T/ipykernel_89577/408375495.py:2: UserWarning: Boolean Series key will be reindexed to match DataFrame index.\n",
      "  X_test_no = X_test[X_test['err']> err_min][X_test['err']< err_max]\n",
      "/var/folders/6h/7cf12br100q1zq0whpzs2tc00000gn/T/ipykernel_89577/408375495.py:3: UserWarning: Boolean Series key will be reindexed to match DataFrame index.\n",
      "  X_test_no = X_test_no[X_test_no['baseline_err']> berr_min][X_test_no['baseline_err']< berr_max]\n"
     ]
    }
   ],
   "source": [
    "#Taking points that are in the middle 98% of both distributions\n",
    "X_test_no = X_test[X_test['err']> err_min][X_test['err']< err_max]\n",
    "X_test_no = X_test_no[X_test_no['baseline_err']> berr_min][X_test_no['baseline_err']< berr_max]"
   ]
  },
  {
   "cell_type": "code",
   "execution_count": 269,
   "id": "85aa0c78",
   "metadata": {
    "scrolled": false
   },
   "outputs": [
    {
     "data": {
      "text/plain": [
       "<seaborn.axisgrid.FacetGrid at 0xb523247f0>"
      ]
     },
     "execution_count": 269,
     "metadata": {},
     "output_type": "execute_result"
    },
    {
     "data": {
      "image/png": "[encoded data removed]",
      "text/plain": [
       "<Figure size 500x500 with 1 Axes>"
      ]
     },
     "metadata": {},
     "output_type": "display_data"
    }
   ],
   "source": [
    "#A visualization of the joint distribution of baseline error and RF error\n",
    "sns.displot(X_test_no, x='baseline_err', y = 'err', kind = 'kde', rug = True)"
   ]
  }
 ],
 "metadata": {
  "kernelspec": {
   "display_name": "Python 3 (ipykernel)",
   "language": "python",
   "name": "python3"
  },
  "language_info": {
   "codemirror_mode": {
    "name": "ipython",
    "version": 3
   },
   "file_extension": ".py",
   "mimetype": "text/x-python",
   "name": "python",
   "nbconvert_exporter": "python",
   "pygments_lexer": "ipython3",
   "version": "3.9.6"
  }
 },
 "nbformat": 4,
 "nbformat_minor": 5
}
