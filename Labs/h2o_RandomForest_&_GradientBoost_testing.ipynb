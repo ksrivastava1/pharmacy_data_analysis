{
 "cells": [
  {
   "cell_type": "markdown",
   "id": "87c9752c",
   "metadata": {},
   "source": [
    "## Loading the libraries and dataset"
   ]
  },
  {
   "cell_type": "code",
   "execution_count": 28,
   "id": "c570619c",
   "metadata": {},
   "outputs": [
    {
     "name": "stdout",
     "output_type": "stream",
     "text": [
      "<class 'pandas.core.frame.DataFrame'>\n",
      "RangeIndex: 13910244 entries, 0 to 13910243\n",
      "Data columns (total 9 columns):\n",
      " #   Column       Dtype  \n",
      "---  ------       -----  \n",
      " 0   tx_date      object \n",
      " 1   pharmacy     object \n",
      " 2   diagnosis    object \n",
      " 3   drug         object \n",
      " 4   bin          int64  \n",
      " 5   pcn          object \n",
      " 6   group        object \n",
      " 7   rejected     bool   \n",
      " 8   patient_pay  float64\n",
      "dtypes: bool(1), float64(1), int64(1), object(6)\n",
      "memory usage: 862.3+ MB\n"
     ]
    }
   ],
   "source": [
    "#Load the required libraries\n",
    "import pandas as pd\n",
    "import numpy as np\n",
    "import matplotlib.pyplot as plt\n",
    "import seaborn as sns \n",
    "\n",
    "\n",
    "#Load the data\n",
    "df = pd.read_csv(\"/Users/christine/Desktop/group_project/pharmacy_tx.csv\")\n",
    "\n",
    "df.info()"
   ]
  },
  {
   "cell_type": "code",
   "execution_count": 42,
   "id": "bd0cbbc2",
   "metadata": {},
   "outputs": [
    {
     "data": {
      "text/html": [
       "<div>\n",
       "<style scoped>\n",
       "    .dataframe tbody tr th:only-of-type {\n",
       "        vertical-align: middle;\n",
       "    }\n",
       "\n",
       "    .dataframe tbody tr th {\n",
       "        vertical-align: top;\n",
       "    }\n",
       "\n",
       "    .dataframe thead th {\n",
       "        text-align: right;\n",
       "    }\n",
       "</style>\n",
       "<table border=\"1\" class=\"dataframe\">\n",
       "  <thead>\n",
       "    <tr style=\"text-align: right;\">\n",
       "      <th></th>\n",
       "      <th>pharmacy</th>\n",
       "      <th>diagnosis</th>\n",
       "      <th>drug</th>\n",
       "      <th>bin</th>\n",
       "      <th>rejected</th>\n",
       "      <th>patient_pay</th>\n",
       "    </tr>\n",
       "  </thead>\n",
       "  <tbody>\n",
       "    <tr>\n",
       "      <th>0</th>\n",
       "      <td>Pharmacy #6</td>\n",
       "      <td>G99.93</td>\n",
       "      <td>branded tanoclolol</td>\n",
       "      <td>725700</td>\n",
       "      <td>False</td>\n",
       "      <td>13.39</td>\n",
       "    </tr>\n",
       "    <tr>\n",
       "      <th>1</th>\n",
       "      <td>Pharmacy #42</td>\n",
       "      <td>U60.52</td>\n",
       "      <td>branded oxasoted</td>\n",
       "      <td>664344</td>\n",
       "      <td>False</td>\n",
       "      <td>7.02</td>\n",
       "    </tr>\n",
       "    <tr>\n",
       "      <th>2</th>\n",
       "      <td>Pharmacy #37</td>\n",
       "      <td>Q85.91</td>\n",
       "      <td>branded cupitelol</td>\n",
       "      <td>725700</td>\n",
       "      <td>False</td>\n",
       "      <td>13.39</td>\n",
       "    </tr>\n",
       "    <tr>\n",
       "      <th>3</th>\n",
       "      <td>Pharmacy #30</td>\n",
       "      <td>U60.52</td>\n",
       "      <td>generic oxasoted</td>\n",
       "      <td>571569</td>\n",
       "      <td>False</td>\n",
       "      <td>10.84</td>\n",
       "    </tr>\n",
       "    <tr>\n",
       "      <th>4</th>\n",
       "      <td>Pharmacy #18</td>\n",
       "      <td>N55.01</td>\n",
       "      <td>branded mamate</td>\n",
       "      <td>664344</td>\n",
       "      <td>False</td>\n",
       "      <td>47.00</td>\n",
       "    </tr>\n",
       "    <tr>\n",
       "      <th>...</th>\n",
       "      <td>...</td>\n",
       "      <td>...</td>\n",
       "      <td>...</td>\n",
       "      <td>...</td>\n",
       "      <td>...</td>\n",
       "      <td>...</td>\n",
       "    </tr>\n",
       "    <tr>\n",
       "      <th>13910239</th>\n",
       "      <td>Pharmacy #42</td>\n",
       "      <td>U27.71</td>\n",
       "      <td>branded colifunene</td>\n",
       "      <td>322463</td>\n",
       "      <td>True</td>\n",
       "      <td>0.00</td>\n",
       "    </tr>\n",
       "    <tr>\n",
       "      <th>13910240</th>\n",
       "      <td>Pharmacy #45</td>\n",
       "      <td>N59.44</td>\n",
       "      <td>generic tafistitrisin</td>\n",
       "      <td>664344</td>\n",
       "      <td>False</td>\n",
       "      <td>6.28</td>\n",
       "    </tr>\n",
       "    <tr>\n",
       "      <th>13910241</th>\n",
       "      <td>Pharmacy #54</td>\n",
       "      <td>W50.87</td>\n",
       "      <td>generic tanoclolol</td>\n",
       "      <td>691847</td>\n",
       "      <td>False</td>\n",
       "      <td>6.94</td>\n",
       "    </tr>\n",
       "    <tr>\n",
       "      <th>13910242</th>\n",
       "      <td>Pharmacy #0</td>\n",
       "      <td>I68.27</td>\n",
       "      <td>branded prazinib</td>\n",
       "      <td>96934</td>\n",
       "      <td>False</td>\n",
       "      <td>13.93</td>\n",
       "    </tr>\n",
       "    <tr>\n",
       "      <th>13910243</th>\n",
       "      <td>Pharmacy #46</td>\n",
       "      <td>G99.93</td>\n",
       "      <td>branded bovirol</td>\n",
       "      <td>322463</td>\n",
       "      <td>False</td>\n",
       "      <td>12.22</td>\n",
       "    </tr>\n",
       "  </tbody>\n",
       "</table>\n",
       "<p>13910244 rows × 6 columns</p>\n",
       "</div>"
      ],
      "text/plain": [
       "              pharmacy diagnosis                   drug     bin  rejected  \\\n",
       "0          Pharmacy #6    G99.93     branded tanoclolol  725700     False   \n",
       "1         Pharmacy #42    U60.52       branded oxasoted  664344     False   \n",
       "2         Pharmacy #37    Q85.91      branded cupitelol  725700     False   \n",
       "3         Pharmacy #30    U60.52       generic oxasoted  571569     False   \n",
       "4         Pharmacy #18    N55.01         branded mamate  664344     False   \n",
       "...                ...       ...                    ...     ...       ...   \n",
       "13910239  Pharmacy #42    U27.71     branded colifunene  322463      True   \n",
       "13910240  Pharmacy #45    N59.44  generic tafistitrisin  664344     False   \n",
       "13910241  Pharmacy #54    W50.87     generic tanoclolol  691847     False   \n",
       "13910242   Pharmacy #0    I68.27       branded prazinib   96934     False   \n",
       "13910243  Pharmacy #46    G99.93        branded bovirol  322463     False   \n",
       "\n",
       "          patient_pay  \n",
       "0               13.39  \n",
       "1                7.02  \n",
       "2               13.39  \n",
       "3               10.84  \n",
       "4               47.00  \n",
       "...               ...  \n",
       "13910239         0.00  \n",
       "13910240         6.28  \n",
       "13910241         6.94  \n",
       "13910242        13.93  \n",
       "13910243        12.22  \n",
       "\n",
       "[13910244 rows x 6 columns]"
      ]
     },
     "execution_count": 42,
     "metadata": {},
     "output_type": "execute_result"
    }
   ],
   "source": [
    "#Change bin into string (originally it is a number)\n",
    "#Dropping date and pcn/group (only keeping the bin insurance information)\n",
    "\n",
    "df['bin'] = df['bin'].astype(str)\n",
    "df.select_dtypes(include='object').columns\n",
    "\n",
    "df.drop(['tx_date', 'pcn', 'group'],axis=1)\n"
   ]
  },
  {
   "cell_type": "markdown",
   "id": "5073a44e",
   "metadata": {},
   "source": [
    "## Testing out H20 (Random Forest)"
   ]
  },
  {
   "cell_type": "markdown",
   "id": "320101dc",
   "metadata": {},
   "source": [
    "The reason we are testing out h2o is because you can enter in categorical data (without one-hot encoding). We ended up not using h2o, but this is our prelminary exploration. This original test is using "
   ]
  },
  {
   "cell_type": "code",
   "execution_count": 43,
   "id": "6e5d91b5",
   "metadata": {},
   "outputs": [
    {
     "name": "stdout",
     "output_type": "stream",
     "text": [
      "Updated Java Home:  /Library/Java/JavaVirtualMachines/jdk-13.0.2.jdk/Contents/Home\n"
     ]
    }
   ],
   "source": [
    "#I don't have the correct version of Java so I need to load a specific version\n",
    "\n",
    "import os\n",
    "\n",
    "java_path = \"/Library/Java/JavaVirtualMachines/jdk-13.0.2.jdk/Contents/Home\"\n",
    "java_home = os.environ.get('JAVA_HOME', None)\n",
    "\n",
    "if (not java_home) or (java_path not in java_home):\n",
    "    os.environ['JAVA_HOME'] = java_path\n",
    "\n",
    "print(\"Updated Java Home: \",os.environ.get('JAVA_HOME', None))\n"
   ]
  },
  {
   "cell_type": "code",
   "execution_count": 44,
   "id": "e77a1262",
   "metadata": {},
   "outputs": [
    {
     "name": "stdout",
     "output_type": "stream",
     "text": [
      "Checking whether there is an H2O instance running at http://localhost:54321 . connected.\n",
      "Warning: Your H2O cluster version is too old (2 years, 5 months and 19 days)! Please download and install the latest version from http://h2o.ai/download/\n"
     ]
    },
    {
     "data": {
      "text/html": [
       "<div style=\"overflow:auto\"><table style=\"width:50%\"><tr><td>H2O_cluster_uptime:</td>\n",
       "<td>34 mins 05 secs</td></tr>\n",
       "<tr><td>H2O_cluster_timezone:</td>\n",
       "<td>America/Los_Angeles</td></tr>\n",
       "<tr><td>H2O_data_parsing_timezone:</td>\n",
       "<td>UTC</td></tr>\n",
       "<tr><td>H2O_cluster_version:</td>\n",
       "<td>3.30.0.4</td></tr>\n",
       "<tr><td>H2O_cluster_version_age:</td>\n",
       "<td>2 years, 5 months and 19 days !!!</td></tr>\n",
       "<tr><td>H2O_cluster_name:</td>\n",
       "<td>H2O_from_python_christine_cusijr</td></tr>\n",
       "<tr><td>H2O_cluster_total_nodes:</td>\n",
       "<td>1</td></tr>\n",
       "<tr><td>H2O_cluster_free_memory:</td>\n",
       "<td>3.488 Gb</td></tr>\n",
       "<tr><td>H2O_cluster_total_cores:</td>\n",
       "<td>8</td></tr>\n",
       "<tr><td>H2O_cluster_allowed_cores:</td>\n",
       "<td>8</td></tr>\n",
       "<tr><td>H2O_cluster_status:</td>\n",
       "<td>locked, healthy</td></tr>\n",
       "<tr><td>H2O_connection_url:</td>\n",
       "<td>http://localhost:54321</td></tr>\n",
       "<tr><td>H2O_connection_proxy:</td>\n",
       "<td>{\"http\": null, \"https\": null}</td></tr>\n",
       "<tr><td>H2O_internal_security:</td>\n",
       "<td>False</td></tr>\n",
       "<tr><td>H2O_API_Extensions:</td>\n",
       "<td>Amazon S3, XGBoost, Algos, AutoML, Core V3, TargetEncoder, Core V4</td></tr>\n",
       "<tr><td>Python_version:</td>\n",
       "<td>3.9.12 final</td></tr></table></div>"
      ],
      "text/plain": [
       "--------------------------  ------------------------------------------------------------------\n",
       "H2O_cluster_uptime:         34 mins 05 secs\n",
       "H2O_cluster_timezone:       America/Los_Angeles\n",
       "H2O_data_parsing_timezone:  UTC\n",
       "H2O_cluster_version:        3.30.0.4\n",
       "H2O_cluster_version_age:    2 years, 5 months and 19 days !!!\n",
       "H2O_cluster_name:           H2O_from_python_christine_cusijr\n",
       "H2O_cluster_total_nodes:    1\n",
       "H2O_cluster_free_memory:    3.488 Gb\n",
       "H2O_cluster_total_cores:    8\n",
       "H2O_cluster_allowed_cores:  8\n",
       "H2O_cluster_status:         locked, healthy\n",
       "H2O_connection_url:         http://localhost:54321\n",
       "H2O_connection_proxy:       {\"http\": null, \"https\": null}\n",
       "H2O_internal_security:      False\n",
       "H2O_API_Extensions:         Amazon S3, XGBoost, Algos, AutoML, Core V3, TargetEncoder, Core V4\n",
       "Python_version:             3.9.12 final\n",
       "--------------------------  ------------------------------------------------------------------"
      ]
     },
     "metadata": {},
     "output_type": "display_data"
    }
   ],
   "source": [
    "#I couldn't get the updated H2O version to run -- it keeps detecting this older version.\n",
    "#Since we ended up not using h2o, I never followed up on this issue.\n",
    "\n",
    "import h2o\n",
    "from h2o.estimators.gbm import H2OGradientBoostingEstimator\n",
    "\n",
    "h2o.init()\n"
   ]
  },
  {
   "cell_type": "code",
   "execution_count": 45,
   "id": "70928d0f",
   "metadata": {},
   "outputs": [
    {
     "name": "stdout",
     "output_type": "stream",
     "text": [
      "Parse progress: |█████████████████████████████████████████████████████████| 100%\n"
     ]
    }
   ],
   "source": [
    "#Loading in the edited dataframe as an h2o object\n",
    "\n",
    "covermymeds = h2o.H2OFrame(df)\n",
    "\n"
   ]
  },
  {
   "cell_type": "code",
   "execution_count": 48,
   "id": "8cefe66b",
   "metadata": {},
   "outputs": [],
   "source": [
    "#setting the training and response columsn\n",
    "#splitting the training and testing data\n",
    "\n",
    "training_columns = [\"pharmacy\", \"diagnosis\", \"drug\", \"bin\", \"rejected\"]\n",
    "response_column = \"patient_pay\"\n",
    "\n",
    "train, test = covermymeds.split_frame(ratios=[0.8])"
   ]
  },
  {
   "cell_type": "code",
   "execution_count": 49,
   "id": "d7c64dda",
   "metadata": {},
   "outputs": [
    {
     "name": "stdout",
     "output_type": "stream",
     "text": [
      "drf Model Build progress: |███████████████████████████████████████████████| 100%\n"
     ]
    }
   ],
   "source": [
    "#Building and testing the model\n",
    "\n",
    "from h2o.estimators import H2ORandomForestEstimator\n",
    "model = H2ORandomForestEstimator(ntrees=50, max_depth=20, nfolds=10)\n",
    "model.train(x=training_columns, y=response_column, training_frame=train)\n",
    "\n"
   ]
  },
  {
   "cell_type": "code",
   "execution_count": 51,
   "id": "4be0c3f8",
   "metadata": {},
   "outputs": [
    {
     "name": "stdout",
     "output_type": "stream",
     "text": [
      "\n",
      "ModelMetricsRegression: drf\n",
      "** Reported on test data. **\n",
      "\n",
      "MSE: 393.94293526322207\n",
      "RMSE: 19.847995749274588\n",
      "MAE: 9.905121687888428\n",
      "RMSLE: 0.6593340761834802\n",
      "Mean Residual Deviance: 393.94293526322207\n",
      "\n"
     ]
    }
   ],
   "source": [
    "#Assessing the performance\n",
    "\n",
    "performance = model.model_performance(test_data=test)\n",
    "print(performance)\n",
    "\n"
   ]
  },
  {
   "cell_type": "code",
   "execution_count": 57,
   "id": "a27dd1e5",
   "metadata": {},
   "outputs": [],
   "source": [
    "#Trying out H2O gradient boost (GBM)\n",
    "\n",
    "\n",
    "from h2o.estimators.gbm import H2OGradientBoostingEstimator\n",
    "gbmtrain, gbmvalid, gbmtest = covermymeds.split_frame(ratios=[0.6,0.2], seed=100)\n",
    "training_columns = [\"pharmacy\", \"diagnosis\", \"drug\", \"bin\", \"rejected\"]\n",
    "response_column = \"patient_pay\"\n",
    "\n",
    "gbm = H2OGradientBoostingEstimator()\n"
   ]
  },
  {
   "cell_type": "code",
   "execution_count": 58,
   "id": "f2c814c9",
   "metadata": {},
   "outputs": [
    {
     "name": "stdout",
     "output_type": "stream",
     "text": [
      "gbm Model Build progress: |███████████████████████████████████████████████| 100%\n"
     ]
    }
   ],
   "source": [
    "#Training the GBM\n",
    "\n",
    "gbm.train(x=training_columns, y=response_column, training_frame=gbmtrain)"
   ]
  },
  {
   "cell_type": "code",
   "execution_count": 59,
   "id": "230c51c0",
   "metadata": {},
   "outputs": [
    {
     "name": "stdout",
     "output_type": "stream",
     "text": [
      "Model Details\n",
      "=============\n",
      "H2OGradientBoostingEstimator :  Gradient Boosting Machine\n",
      "Model Key:  GBM_model_python_1669009420170_3\n",
      "\n",
      "\n",
      "Model Summary: \n"
     ]
    },
    {
     "data": {
      "text/html": [
       "<div>\n",
       "<style scoped>\n",
       "    .dataframe tbody tr th:only-of-type {\n",
       "        vertical-align: middle;\n",
       "    }\n",
       "\n",
       "    .dataframe tbody tr th {\n",
       "        vertical-align: top;\n",
       "    }\n",
       "\n",
       "    .dataframe thead th {\n",
       "        text-align: right;\n",
       "    }\n",
       "</style>\n",
       "<table border=\"1\" class=\"dataframe\">\n",
       "  <thead>\n",
       "    <tr style=\"text-align: right;\">\n",
       "      <th></th>\n",
       "      <th></th>\n",
       "      <th>number_of_trees</th>\n",
       "      <th>number_of_internal_trees</th>\n",
       "      <th>model_size_in_bytes</th>\n",
       "      <th>min_depth</th>\n",
       "      <th>max_depth</th>\n",
       "      <th>mean_depth</th>\n",
       "      <th>min_leaves</th>\n",
       "      <th>max_leaves</th>\n",
       "      <th>mean_leaves</th>\n",
       "    </tr>\n",
       "  </thead>\n",
       "  <tbody>\n",
       "    <tr>\n",
       "      <th>0</th>\n",
       "      <td></td>\n",
       "      <td>50.0</td>\n",
       "      <td>50.0</td>\n",
       "      <td>28636.0</td>\n",
       "      <td>5.0</td>\n",
       "      <td>5.0</td>\n",
       "      <td>5.0</td>\n",
       "      <td>21.0</td>\n",
       "      <td>32.0</td>\n",
       "      <td>26.16</td>\n",
       "    </tr>\n",
       "  </tbody>\n",
       "</table>\n",
       "</div>"
      ],
      "text/plain": [
       "     number_of_trees  number_of_internal_trees  model_size_in_bytes  \\\n",
       "0               50.0                      50.0              28636.0   \n",
       "\n",
       "   min_depth  max_depth  mean_depth  min_leaves  max_leaves  mean_leaves  \n",
       "0        5.0        5.0         5.0        21.0        32.0        26.16  "
      ]
     },
     "metadata": {},
     "output_type": "display_data"
    },
    {
     "name": "stdout",
     "output_type": "stream",
     "text": [
      "\n",
      "\n",
      "ModelMetricsRegression: gbm\n",
      "** Reported on train data. **\n",
      "\n",
      "MSE: 229.53813861611474\n",
      "RMSE: 15.150516117153064\n",
      "MAE: 6.081173017139265\n",
      "RMSLE: NaN\n",
      "Mean Residual Deviance: 229.53813861611474\n",
      "\n",
      "Scoring History: \n"
     ]
    },
    {
     "data": {
      "text/html": [
       "<div>\n",
       "<style scoped>\n",
       "    .dataframe tbody tr th:only-of-type {\n",
       "        vertical-align: middle;\n",
       "    }\n",
       "\n",
       "    .dataframe tbody tr th {\n",
       "        vertical-align: top;\n",
       "    }\n",
       "\n",
       "    .dataframe thead th {\n",
       "        text-align: right;\n",
       "    }\n",
       "</style>\n",
       "<table border=\"1\" class=\"dataframe\">\n",
       "  <thead>\n",
       "    <tr style=\"text-align: right;\">\n",
       "      <th></th>\n",
       "      <th></th>\n",
       "      <th>timestamp</th>\n",
       "      <th>duration</th>\n",
       "      <th>number_of_trees</th>\n",
       "      <th>training_rmse</th>\n",
       "      <th>training_mae</th>\n",
       "      <th>training_deviance</th>\n",
       "    </tr>\n",
       "  </thead>\n",
       "  <tbody>\n",
       "    <tr>\n",
       "      <th>0</th>\n",
       "      <td></td>\n",
       "      <td>2022-11-21 00:26:44</td>\n",
       "      <td>0.001 sec</td>\n",
       "      <td>0.0</td>\n",
       "      <td>39.545644</td>\n",
       "      <td>20.793193</td>\n",
       "      <td>1563.857992</td>\n",
       "    </tr>\n",
       "    <tr>\n",
       "      <th>1</th>\n",
       "      <td></td>\n",
       "      <td>2022-11-21 00:26:45</td>\n",
       "      <td>1.640 sec</td>\n",
       "      <td>1.0</td>\n",
       "      <td>36.373624</td>\n",
       "      <td>19.109769</td>\n",
       "      <td>1323.040493</td>\n",
       "    </tr>\n",
       "    <tr>\n",
       "      <th>2</th>\n",
       "      <td></td>\n",
       "      <td>2022-11-21 00:26:47</td>\n",
       "      <td>2.934 sec</td>\n",
       "      <td>2.0</td>\n",
       "      <td>33.559755</td>\n",
       "      <td>17.600768</td>\n",
       "      <td>1126.257185</td>\n",
       "    </tr>\n",
       "    <tr>\n",
       "      <th>3</th>\n",
       "      <td></td>\n",
       "      <td>2022-11-21 00:26:51</td>\n",
       "      <td>6.936 sec</td>\n",
       "      <td>6.0</td>\n",
       "      <td>25.341290</td>\n",
       "      <td>13.070390</td>\n",
       "      <td>642.180985</td>\n",
       "    </tr>\n",
       "    <tr>\n",
       "      <th>4</th>\n",
       "      <td></td>\n",
       "      <td>2022-11-21 00:26:55</td>\n",
       "      <td>11.568 sec</td>\n",
       "      <td>11.0</td>\n",
       "      <td>19.818957</td>\n",
       "      <td>9.895332</td>\n",
       "      <td>392.791056</td>\n",
       "    </tr>\n",
       "    <tr>\n",
       "      <th>5</th>\n",
       "      <td></td>\n",
       "      <td>2022-11-21 00:27:00</td>\n",
       "      <td>16.353 sec</td>\n",
       "      <td>16.0</td>\n",
       "      <td>17.310196</td>\n",
       "      <td>8.256889</td>\n",
       "      <td>299.642870</td>\n",
       "    </tr>\n",
       "    <tr>\n",
       "      <th>6</th>\n",
       "      <td></td>\n",
       "      <td>2022-11-21 00:27:04</td>\n",
       "      <td>20.446 sec</td>\n",
       "      <td>20.0</td>\n",
       "      <td>16.402787</td>\n",
       "      <td>7.495479</td>\n",
       "      <td>269.051422</td>\n",
       "    </tr>\n",
       "    <tr>\n",
       "      <th>7</th>\n",
       "      <td></td>\n",
       "      <td>2022-11-21 00:27:08</td>\n",
       "      <td>24.687 sec</td>\n",
       "      <td>24.0</td>\n",
       "      <td>15.907915</td>\n",
       "      <td>6.991141</td>\n",
       "      <td>253.061771</td>\n",
       "    </tr>\n",
       "    <tr>\n",
       "      <th>8</th>\n",
       "      <td></td>\n",
       "      <td>2022-11-21 00:27:13</td>\n",
       "      <td>28.865 sec</td>\n",
       "      <td>28.0</td>\n",
       "      <td>15.643187</td>\n",
       "      <td>6.672821</td>\n",
       "      <td>244.709310</td>\n",
       "    </tr>\n",
       "    <tr>\n",
       "      <th>9</th>\n",
       "      <td></td>\n",
       "      <td>2022-11-21 00:27:17</td>\n",
       "      <td>33.002 sec</td>\n",
       "      <td>32.0</td>\n",
       "      <td>15.486011</td>\n",
       "      <td>6.456046</td>\n",
       "      <td>239.816531</td>\n",
       "    </tr>\n",
       "    <tr>\n",
       "      <th>10</th>\n",
       "      <td></td>\n",
       "      <td>2022-11-21 00:27:21</td>\n",
       "      <td>37.525 sec</td>\n",
       "      <td>36.0</td>\n",
       "      <td>15.359854</td>\n",
       "      <td>6.309119</td>\n",
       "      <td>235.925113</td>\n",
       "    </tr>\n",
       "    <tr>\n",
       "      <th>11</th>\n",
       "      <td></td>\n",
       "      <td>2022-11-21 00:27:25</td>\n",
       "      <td>41.684 sec</td>\n",
       "      <td>40.0</td>\n",
       "      <td>15.287765</td>\n",
       "      <td>6.201116</td>\n",
       "      <td>233.715745</td>\n",
       "    </tr>\n",
       "    <tr>\n",
       "      <th>12</th>\n",
       "      <td></td>\n",
       "      <td>2022-11-21 00:27:29</td>\n",
       "      <td>45.717 sec</td>\n",
       "      <td>44.0</td>\n",
       "      <td>15.208655</td>\n",
       "      <td>6.139583</td>\n",
       "      <td>231.303195</td>\n",
       "    </tr>\n",
       "    <tr>\n",
       "      <th>13</th>\n",
       "      <td></td>\n",
       "      <td>2022-11-21 00:27:33</td>\n",
       "      <td>49.794 sec</td>\n",
       "      <td>48.0</td>\n",
       "      <td>15.166766</td>\n",
       "      <td>6.097697</td>\n",
       "      <td>230.030803</td>\n",
       "    </tr>\n",
       "    <tr>\n",
       "      <th>14</th>\n",
       "      <td></td>\n",
       "      <td>2022-11-21 00:27:36</td>\n",
       "      <td>52.026 sec</td>\n",
       "      <td>50.0</td>\n",
       "      <td>15.150516</td>\n",
       "      <td>6.081173</td>\n",
       "      <td>229.538139</td>\n",
       "    </tr>\n",
       "  </tbody>\n",
       "</table>\n",
       "</div>"
      ],
      "text/plain": [
       "                timestamp    duration  number_of_trees  training_rmse  \\\n",
       "0     2022-11-21 00:26:44   0.001 sec              0.0      39.545644   \n",
       "1     2022-11-21 00:26:45   1.640 sec              1.0      36.373624   \n",
       "2     2022-11-21 00:26:47   2.934 sec              2.0      33.559755   \n",
       "3     2022-11-21 00:26:51   6.936 sec              6.0      25.341290   \n",
       "4     2022-11-21 00:26:55  11.568 sec             11.0      19.818957   \n",
       "5     2022-11-21 00:27:00  16.353 sec             16.0      17.310196   \n",
       "6     2022-11-21 00:27:04  20.446 sec             20.0      16.402787   \n",
       "7     2022-11-21 00:27:08  24.687 sec             24.0      15.907915   \n",
       "8     2022-11-21 00:27:13  28.865 sec             28.0      15.643187   \n",
       "9     2022-11-21 00:27:17  33.002 sec             32.0      15.486011   \n",
       "10    2022-11-21 00:27:21  37.525 sec             36.0      15.359854   \n",
       "11    2022-11-21 00:27:25  41.684 sec             40.0      15.287765   \n",
       "12    2022-11-21 00:27:29  45.717 sec             44.0      15.208655   \n",
       "13    2022-11-21 00:27:33  49.794 sec             48.0      15.166766   \n",
       "14    2022-11-21 00:27:36  52.026 sec             50.0      15.150516   \n",
       "\n",
       "    training_mae  training_deviance  \n",
       "0      20.793193        1563.857992  \n",
       "1      19.109769        1323.040493  \n",
       "2      17.600768        1126.257185  \n",
       "3      13.070390         642.180985  \n",
       "4       9.895332         392.791056  \n",
       "5       8.256889         299.642870  \n",
       "6       7.495479         269.051422  \n",
       "7       6.991141         253.061771  \n",
       "8       6.672821         244.709310  \n",
       "9       6.456046         239.816531  \n",
       "10      6.309119         235.925113  \n",
       "11      6.201116         233.715745  \n",
       "12      6.139583         231.303195  \n",
       "13      6.097697         230.030803  \n",
       "14      6.081173         229.538139  "
      ]
     },
     "metadata": {},
     "output_type": "display_data"
    },
    {
     "name": "stdout",
     "output_type": "stream",
     "text": [
      "\n",
      "Variable Importances: \n"
     ]
    },
    {
     "data": {
      "text/html": [
       "<div>\n",
       "<style scoped>\n",
       "    .dataframe tbody tr th:only-of-type {\n",
       "        vertical-align: middle;\n",
       "    }\n",
       "\n",
       "    .dataframe tbody tr th {\n",
       "        vertical-align: top;\n",
       "    }\n",
       "\n",
       "    .dataframe thead th {\n",
       "        text-align: right;\n",
       "    }\n",
       "</style>\n",
       "<table border=\"1\" class=\"dataframe\">\n",
       "  <thead>\n",
       "    <tr style=\"text-align: right;\">\n",
       "      <th></th>\n",
       "      <th>variable</th>\n",
       "      <th>relative_importance</th>\n",
       "      <th>scaled_importance</th>\n",
       "      <th>percentage</th>\n",
       "    </tr>\n",
       "  </thead>\n",
       "  <tbody>\n",
       "    <tr>\n",
       "      <th>0</th>\n",
       "      <td>drug</td>\n",
       "      <td>3.539171e+10</td>\n",
       "      <td>1.000000</td>\n",
       "      <td>0.603783</td>\n",
       "    </tr>\n",
       "    <tr>\n",
       "      <th>1</th>\n",
       "      <td>rejected</td>\n",
       "      <td>1.905171e+10</td>\n",
       "      <td>0.538310</td>\n",
       "      <td>0.325023</td>\n",
       "    </tr>\n",
       "    <tr>\n",
       "      <th>2</th>\n",
       "      <td>bin</td>\n",
       "      <td>4.070591e+09</td>\n",
       "      <td>0.115015</td>\n",
       "      <td>0.069444</td>\n",
       "    </tr>\n",
       "    <tr>\n",
       "      <th>3</th>\n",
       "      <td>pharmacy</td>\n",
       "      <td>6.498639e+07</td>\n",
       "      <td>0.001836</td>\n",
       "      <td>0.001109</td>\n",
       "    </tr>\n",
       "    <tr>\n",
       "      <th>4</th>\n",
       "      <td>diagnosis</td>\n",
       "      <td>3.757747e+07</td>\n",
       "      <td>0.001062</td>\n",
       "      <td>0.000641</td>\n",
       "    </tr>\n",
       "  </tbody>\n",
       "</table>\n",
       "</div>"
      ],
      "text/plain": [
       "    variable  relative_importance  scaled_importance  percentage\n",
       "0       drug         3.539171e+10           1.000000    0.603783\n",
       "1   rejected         1.905171e+10           0.538310    0.325023\n",
       "2        bin         4.070591e+09           0.115015    0.069444\n",
       "3   pharmacy         6.498639e+07           0.001836    0.001109\n",
       "4  diagnosis         3.757747e+07           0.001062    0.000641"
      ]
     },
     "metadata": {},
     "output_type": "display_data"
    },
    {
     "name": "stdout",
     "output_type": "stream",
     "text": [
      "\n"
     ]
    }
   ],
   "source": [
    "#Print out the model results/metrics\n",
    "#Interesting to evaluate the variable importance\n",
    "\n",
    "print(gbm)"
   ]
  },
  {
   "cell_type": "code",
   "execution_count": 60,
   "id": "eb2067b6",
   "metadata": {},
   "outputs": [
    {
     "name": "stdout",
     "output_type": "stream",
     "text": [
      "\n",
      "ModelMetricsRegression: gbm\n",
      "** Reported on test data. **\n",
      "\n",
      "MSE: 227.1602705507389\n",
      "RMSE: 15.071836999872938\n",
      "MAE: 6.069839826655207\n",
      "RMSLE: NaN\n",
      "Mean Residual Deviance: 227.1602705507389\n",
      "\n"
     ]
    }
   ],
   "source": [
    "perf = gbm.model_performance(gbmvalid)\n",
    "print(perf)"
   ]
  },
  {
   "cell_type": "code",
   "execution_count": 69,
   "id": "0ec11c83",
   "metadata": {},
   "outputs": [
    {
     "name": "stderr",
     "output_type": "stream",
     "text": [
      "/var/folders/n3/j1h1x5x96wd16py26gsf_yf80000gn/T/ipykernel_33784/2157244593.py:1: DeprecationWarning: Deprecated, use ``h2o.cluster().shutdown()``.\n",
      "  h2o.shutdown()\n"
     ]
    },
    {
     "name": "stdout",
     "output_type": "stream",
     "text": [
      "H2O session _sid_b10f closed.\n"
     ]
    }
   ],
   "source": [
    "h2o.shutdown()\n"
   ]
  },
  {
   "cell_type": "markdown",
   "id": "29f0bea4",
   "metadata": {},
   "source": [
    "We have decided to change how we process the data -- instead of using the dates, we are converting them into day of year. We are also dropping pharmacy and splitting the drug column into 2 (branded vs generic) and drug name. Again, ultimately, we did not use h2o to run this random forest, but this is our preliminary data that we used for comparisons. Some of the parsing code is borrowed from Will's notebook."
   ]
  },
  {
   "cell_type": "code",
   "execution_count": 1,
   "id": "2b6ae4d5",
   "metadata": {},
   "outputs": [
    {
     "name": "stdout",
     "output_type": "stream",
     "text": [
      "Updated Java Home:  /Library/Java/JavaVirtualMachines/jdk-13.0.2.jdk/Contents/Home\n"
     ]
    }
   ],
   "source": [
    "#Again, opening the right version of Java that is needed.\n",
    "\n",
    "import os\n",
    "\n",
    "java_path = \"/Library/Java/JavaVirtualMachines/jdk-13.0.2.jdk/Contents/Home\"\n",
    "java_home = os.environ.get('JAVA_HOME', None)\n",
    "\n",
    "if (not java_home) or (java_path not in java_home):\n",
    "    os.environ['JAVA_HOME'] = java_path\n",
    "\n",
    "\n",
    "    print(\"Updated Java Home: \",os.environ.get('JAVA_HOME', None))"
   ]
  },
  {
   "cell_type": "code",
   "execution_count": 2,
   "id": "a71255ef",
   "metadata": {},
   "outputs": [
    {
     "name": "stdout",
     "output_type": "stream",
     "text": [
      "Checking whether there is an H2O instance running at http://localhost:54321 ..... not found.\n",
      "Attempting to start a local H2O server...\n",
      "  Java Version: java version \"13.0.2\" 2020-01-14; Java(TM) SE Runtime Environment (build 13.0.2+8); Java HotSpot(TM) 64-Bit Server VM (build 13.0.2+8, mixed mode, sharing)\n",
      "  Starting server from /opt/anaconda3/lib/python3.9/site-packages/h2o/backend/bin/h2o.jar\n",
      "  Ice root: /var/folders/n3/j1h1x5x96wd16py26gsf_yf80000gn/T/tmptvo2e_lf\n",
      "  JVM stdout: /var/folders/n3/j1h1x5x96wd16py26gsf_yf80000gn/T/tmptvo2e_lf/h2o_christine_started_from_python.out\n",
      "  JVM stderr: /var/folders/n3/j1h1x5x96wd16py26gsf_yf80000gn/T/tmptvo2e_lf/h2o_christine_started_from_python.err\n",
      "  Server is running at http://127.0.0.1:54321\n",
      "Connecting to H2O server at http://127.0.0.1:54321 ... successful.\n",
      "Warning: Your H2O cluster version is too old (2 years and 6 months)! Please download and install the latest version from http://h2o.ai/download/\n"
     ]
    },
    {
     "data": {
      "text/html": [
       "<div style=\"overflow:auto\"><table style=\"width:50%\"><tr><td>H2O_cluster_uptime:</td>\n",
       "<td>02 secs</td></tr>\n",
       "<tr><td>H2O_cluster_timezone:</td>\n",
       "<td>America/Los_Angeles</td></tr>\n",
       "<tr><td>H2O_data_parsing_timezone:</td>\n",
       "<td>UTC</td></tr>\n",
       "<tr><td>H2O_cluster_version:</td>\n",
       "<td>3.30.0.4</td></tr>\n",
       "<tr><td>H2O_cluster_version_age:</td>\n",
       "<td>2 years and 6 months !!!</td></tr>\n",
       "<tr><td>H2O_cluster_name:</td>\n",
       "<td>H2O_from_python_christine_znmkks</td></tr>\n",
       "<tr><td>H2O_cluster_total_nodes:</td>\n",
       "<td>1</td></tr>\n",
       "<tr><td>H2O_cluster_free_memory:</td>\n",
       "<td>4 Gb</td></tr>\n",
       "<tr><td>H2O_cluster_total_cores:</td>\n",
       "<td>8</td></tr>\n",
       "<tr><td>H2O_cluster_allowed_cores:</td>\n",
       "<td>8</td></tr>\n",
       "<tr><td>H2O_cluster_status:</td>\n",
       "<td>accepting new members, healthy</td></tr>\n",
       "<tr><td>H2O_connection_url:</td>\n",
       "<td>http://127.0.0.1:54321</td></tr>\n",
       "<tr><td>H2O_connection_proxy:</td>\n",
       "<td>{\"http\": null, \"https\": null}</td></tr>\n",
       "<tr><td>H2O_internal_security:</td>\n",
       "<td>False</td></tr>\n",
       "<tr><td>H2O_API_Extensions:</td>\n",
       "<td>Amazon S3, XGBoost, Algos, AutoML, Core V3, TargetEncoder, Core V4</td></tr>\n",
       "<tr><td>Python_version:</td>\n",
       "<td>3.9.12 final</td></tr></table></div>"
      ],
      "text/plain": [
       "--------------------------  ------------------------------------------------------------------\n",
       "H2O_cluster_uptime:         02 secs\n",
       "H2O_cluster_timezone:       America/Los_Angeles\n",
       "H2O_data_parsing_timezone:  UTC\n",
       "H2O_cluster_version:        3.30.0.4\n",
       "H2O_cluster_version_age:    2 years and 6 months !!!\n",
       "H2O_cluster_name:           H2O_from_python_christine_znmkks\n",
       "H2O_cluster_total_nodes:    1\n",
       "H2O_cluster_free_memory:    4 Gb\n",
       "H2O_cluster_total_cores:    8\n",
       "H2O_cluster_allowed_cores:  8\n",
       "H2O_cluster_status:         accepting new members, healthy\n",
       "H2O_connection_url:         http://127.0.0.1:54321\n",
       "H2O_connection_proxy:       {\"http\": null, \"https\": null}\n",
       "H2O_internal_security:      False\n",
       "H2O_API_Extensions:         Amazon S3, XGBoost, Algos, AutoML, Core V3, TargetEncoder, Core V4\n",
       "Python_version:             3.9.12 final\n",
       "--------------------------  ------------------------------------------------------------------"
      ]
     },
     "metadata": {},
     "output_type": "display_data"
    }
   ],
   "source": [
    "import h2o\n",
    "h2o.init()"
   ]
  },
  {
   "cell_type": "code",
   "execution_count": 26,
   "id": "529dec18",
   "metadata": {},
   "outputs": [
    {
     "name": "stdout",
     "output_type": "stream",
     "text": [
      "<class 'pandas.core.frame.DataFrame'>\n",
      "RangeIndex: 13910244 entries, 0 to 13910243\n",
      "Data columns (total 9 columns):\n",
      " #   Column       Dtype  \n",
      "---  ------       -----  \n",
      " 0   tx_date      object \n",
      " 1   pharmacy     object \n",
      " 2   diagnosis    object \n",
      " 3   drug         object \n",
      " 4   bin          int64  \n",
      " 5   pcn          object \n",
      " 6   group        object \n",
      " 7   rejected     bool   \n",
      " 8   patient_pay  float64\n",
      "dtypes: bool(1), float64(1), int64(1), object(6)\n",
      "memory usage: 862.3+ MB\n"
     ]
    }
   ],
   "source": [
    "#Load the required libraries\n",
    "import pandas as pd\n",
    "import numpy as np\n",
    "import matplotlib.pyplot as plt\n",
    "import seaborn as sns \n",
    "from datetime import datetime\n",
    "from datetime import date\n",
    "from sklearn.model_selection import train_test_split\n",
    "#Load the data\n",
    "df = pd.read_csv(\"/Users/christine/Desktop/group_project/pharmacy_tx.csv\")\n",
    "\n",
    "df.info()\n",
    "\n"
   ]
  },
  {
   "cell_type": "code",
   "execution_count": 27,
   "id": "be53edd7",
   "metadata": {},
   "outputs": [
    {
     "data": {
      "text/html": [
       "<div>\n",
       "<style scoped>\n",
       "    .dataframe tbody tr th:only-of-type {\n",
       "        vertical-align: middle;\n",
       "    }\n",
       "\n",
       "    .dataframe tbody tr th {\n",
       "        vertical-align: top;\n",
       "    }\n",
       "\n",
       "    .dataframe thead th {\n",
       "        text-align: right;\n",
       "    }\n",
       "</style>\n",
       "<table border=\"1\" class=\"dataframe\">\n",
       "  <thead>\n",
       "    <tr style=\"text-align: right;\">\n",
       "      <th></th>\n",
       "      <th>pharmacy</th>\n",
       "      <th>diagnosis</th>\n",
       "      <th>drug</th>\n",
       "      <th>bin</th>\n",
       "      <th>pcn</th>\n",
       "      <th>group</th>\n",
       "      <th>rejected</th>\n",
       "      <th>patient_pay</th>\n",
       "      <th>day</th>\n",
       "    </tr>\n",
       "  </thead>\n",
       "  <tbody>\n",
       "    <tr>\n",
       "      <th>0</th>\n",
       "      <td>Pharmacy #6</td>\n",
       "      <td>G99.93</td>\n",
       "      <td>branded tanoclolol</td>\n",
       "      <td>725700</td>\n",
       "      <td>1UQC</td>\n",
       "      <td>NaN</td>\n",
       "      <td>False</td>\n",
       "      <td>13.39</td>\n",
       "      <td>2</td>\n",
       "    </tr>\n",
       "    <tr>\n",
       "      <th>1</th>\n",
       "      <td>Pharmacy #42</td>\n",
       "      <td>U60.52</td>\n",
       "      <td>branded oxasoted</td>\n",
       "      <td>664344</td>\n",
       "      <td>NaN</td>\n",
       "      <td>52H8KH0F83K</td>\n",
       "      <td>False</td>\n",
       "      <td>7.02</td>\n",
       "      <td>2</td>\n",
       "    </tr>\n",
       "    <tr>\n",
       "      <th>2</th>\n",
       "      <td>Pharmacy #37</td>\n",
       "      <td>Q85.91</td>\n",
       "      <td>branded cupitelol</td>\n",
       "      <td>725700</td>\n",
       "      <td>1UQC</td>\n",
       "      <td>NaN</td>\n",
       "      <td>False</td>\n",
       "      <td>13.39</td>\n",
       "      <td>2</td>\n",
       "    </tr>\n",
       "    <tr>\n",
       "      <th>3</th>\n",
       "      <td>Pharmacy #30</td>\n",
       "      <td>U60.52</td>\n",
       "      <td>generic oxasoted</td>\n",
       "      <td>571569</td>\n",
       "      <td>KB38N</td>\n",
       "      <td>6BYJBW</td>\n",
       "      <td>False</td>\n",
       "      <td>10.84</td>\n",
       "      <td>2</td>\n",
       "    </tr>\n",
       "    <tr>\n",
       "      <th>4</th>\n",
       "      <td>Pharmacy #18</td>\n",
       "      <td>N55.01</td>\n",
       "      <td>branded mamate</td>\n",
       "      <td>664344</td>\n",
       "      <td>NaN</td>\n",
       "      <td>ZX2QUWR</td>\n",
       "      <td>False</td>\n",
       "      <td>47.00</td>\n",
       "      <td>2</td>\n",
       "    </tr>\n",
       "  </tbody>\n",
       "</table>\n",
       "</div>"
      ],
      "text/plain": [
       "       pharmacy diagnosis                drug     bin    pcn        group  \\\n",
       "0   Pharmacy #6    G99.93  branded tanoclolol  725700   1UQC          NaN   \n",
       "1  Pharmacy #42    U60.52    branded oxasoted  664344    NaN  52H8KH0F83K   \n",
       "2  Pharmacy #37    Q85.91   branded cupitelol  725700   1UQC          NaN   \n",
       "3  Pharmacy #30    U60.52    generic oxasoted  571569  KB38N       6BYJBW   \n",
       "4  Pharmacy #18    N55.01      branded mamate  664344    NaN      ZX2QUWR   \n",
       "\n",
       "   rejected  patient_pay  day  \n",
       "0     False        13.39    2  \n",
       "1     False         7.02    2  \n",
       "2     False        13.39    2  \n",
       "3     False        10.84    2  \n",
       "4     False        47.00    2  "
      ]
     },
     "execution_count": 27,
     "metadata": {},
     "output_type": "execute_result"
    }
   ],
   "source": [
    "#Converting the date to the day of the year\n",
    "\n",
    "def get_doy(d):\n",
    "    return d.dayofyear\n",
    "\n",
    "df['day'] = pd.to_datetime(df.tx_date).apply(get_doy)\n",
    "df = df.drop(columns = ['tx_date'])\n",
    "df.head()"
   ]
  },
  {
   "cell_type": "code",
   "execution_count": 28,
   "id": "b19307eb",
   "metadata": {},
   "outputs": [
    {
     "data": {
      "text/html": [
       "<div>\n",
       "<style scoped>\n",
       "    .dataframe tbody tr th:only-of-type {\n",
       "        vertical-align: middle;\n",
       "    }\n",
       "\n",
       "    .dataframe tbody tr th {\n",
       "        vertical-align: top;\n",
       "    }\n",
       "\n",
       "    .dataframe thead th {\n",
       "        text-align: right;\n",
       "    }\n",
       "</style>\n",
       "<table border=\"1\" class=\"dataframe\">\n",
       "  <thead>\n",
       "    <tr style=\"text-align: right;\">\n",
       "      <th></th>\n",
       "      <th>diagnosis</th>\n",
       "      <th>drug</th>\n",
       "      <th>bin</th>\n",
       "      <th>patient_pay</th>\n",
       "      <th>day</th>\n",
       "    </tr>\n",
       "  </thead>\n",
       "  <tbody>\n",
       "    <tr>\n",
       "      <th>0</th>\n",
       "      <td>G99.93</td>\n",
       "      <td>branded tanoclolol</td>\n",
       "      <td>725700</td>\n",
       "      <td>13.39</td>\n",
       "      <td>2</td>\n",
       "    </tr>\n",
       "    <tr>\n",
       "      <th>1</th>\n",
       "      <td>U60.52</td>\n",
       "      <td>branded oxasoted</td>\n",
       "      <td>664344</td>\n",
       "      <td>7.02</td>\n",
       "      <td>2</td>\n",
       "    </tr>\n",
       "    <tr>\n",
       "      <th>2</th>\n",
       "      <td>Q85.91</td>\n",
       "      <td>branded cupitelol</td>\n",
       "      <td>725700</td>\n",
       "      <td>13.39</td>\n",
       "      <td>2</td>\n",
       "    </tr>\n",
       "    <tr>\n",
       "      <th>3</th>\n",
       "      <td>U60.52</td>\n",
       "      <td>generic oxasoted</td>\n",
       "      <td>571569</td>\n",
       "      <td>10.84</td>\n",
       "      <td>2</td>\n",
       "    </tr>\n",
       "    <tr>\n",
       "      <th>4</th>\n",
       "      <td>N55.01</td>\n",
       "      <td>branded mamate</td>\n",
       "      <td>664344</td>\n",
       "      <td>47.00</td>\n",
       "      <td>2</td>\n",
       "    </tr>\n",
       "  </tbody>\n",
       "</table>\n",
       "</div>"
      ],
      "text/plain": [
       "  diagnosis                drug     bin  patient_pay  day\n",
       "0    G99.93  branded tanoclolol  725700        13.39    2\n",
       "1    U60.52    branded oxasoted  664344         7.02    2\n",
       "2    Q85.91   branded cupitelol  725700        13.39    2\n",
       "3    U60.52    generic oxasoted  571569        10.84    2\n",
       "4    N55.01      branded mamate  664344        47.00    2"
      ]
     },
     "execution_count": 28,
     "metadata": {},
     "output_type": "execute_result"
    }
   ],
   "source": [
    "#Remove rejected column -- and remove rows in which rejected is TRUE (which is when copay is 0)\n",
    "#Dropping pharmacy, group, pcn.\n",
    "\n",
    "df = df[df['rejected']==False]\n",
    "df = df.drop(columns = ['pharmacy', 'group', 'pcn', 'rejected'])\n",
    "df.head()"
   ]
  },
  {
   "cell_type": "code",
   "execution_count": 29,
   "id": "7cbdda2c",
   "metadata": {},
   "outputs": [
    {
     "data": {
      "text/html": [
       "<div>\n",
       "<style scoped>\n",
       "    .dataframe tbody tr th:only-of-type {\n",
       "        vertical-align: middle;\n",
       "    }\n",
       "\n",
       "    .dataframe tbody tr th {\n",
       "        vertical-align: top;\n",
       "    }\n",
       "\n",
       "    .dataframe thead th {\n",
       "        text-align: right;\n",
       "    }\n",
       "</style>\n",
       "<table border=\"1\" class=\"dataframe\">\n",
       "  <thead>\n",
       "    <tr style=\"text-align: right;\">\n",
       "      <th></th>\n",
       "      <th>diagnosis</th>\n",
       "      <th>drug</th>\n",
       "      <th>bin</th>\n",
       "      <th>patient_pay</th>\n",
       "      <th>day</th>\n",
       "      <th>drug_type</th>\n",
       "    </tr>\n",
       "  </thead>\n",
       "  <tbody>\n",
       "    <tr>\n",
       "      <th>0</th>\n",
       "      <td>G99.93</td>\n",
       "      <td>tanoclolol</td>\n",
       "      <td>725700</td>\n",
       "      <td>13.39</td>\n",
       "      <td>2</td>\n",
       "      <td>branded</td>\n",
       "    </tr>\n",
       "    <tr>\n",
       "      <th>1</th>\n",
       "      <td>U60.52</td>\n",
       "      <td>oxasoted</td>\n",
       "      <td>664344</td>\n",
       "      <td>7.02</td>\n",
       "      <td>2</td>\n",
       "      <td>branded</td>\n",
       "    </tr>\n",
       "    <tr>\n",
       "      <th>2</th>\n",
       "      <td>Q85.91</td>\n",
       "      <td>cupitelol</td>\n",
       "      <td>725700</td>\n",
       "      <td>13.39</td>\n",
       "      <td>2</td>\n",
       "      <td>branded</td>\n",
       "    </tr>\n",
       "    <tr>\n",
       "      <th>3</th>\n",
       "      <td>U60.52</td>\n",
       "      <td>oxasoted</td>\n",
       "      <td>571569</td>\n",
       "      <td>10.84</td>\n",
       "      <td>2</td>\n",
       "      <td>generic</td>\n",
       "    </tr>\n",
       "    <tr>\n",
       "      <th>4</th>\n",
       "      <td>N55.01</td>\n",
       "      <td>mamate</td>\n",
       "      <td>664344</td>\n",
       "      <td>47.00</td>\n",
       "      <td>2</td>\n",
       "      <td>branded</td>\n",
       "    </tr>\n",
       "  </tbody>\n",
       "</table>\n",
       "</div>"
      ],
      "text/plain": [
       "  diagnosis        drug     bin  patient_pay  day drug_type\n",
       "0    G99.93  tanoclolol  725700        13.39    2   branded\n",
       "1    U60.52    oxasoted  664344         7.02    2   branded\n",
       "2    Q85.91   cupitelol  725700        13.39    2   branded\n",
       "3    U60.52    oxasoted  571569        10.84    2   generic\n",
       "4    N55.01      mamate  664344        47.00    2   branded"
      ]
     },
     "execution_count": 29,
     "metadata": {},
     "output_type": "execute_result"
    }
   ],
   "source": [
    "#Split drug into drug and drug type (so we can look at branded vs generic as well as the type of drug)\n",
    "\n",
    "df['drug_type'] = df['drug'].apply(lambda x: x.split(' ')[0])\n",
    "df['drug'] = df['drug'].apply(lambda x: x.split(' ')[1])\n",
    "df.head()"
   ]
  },
  {
   "cell_type": "code",
   "execution_count": 30,
   "id": "2e0a3298",
   "metadata": {},
   "outputs": [
    {
     "name": "stdout",
     "output_type": "stream",
     "text": [
      "Parse progress: |█████████████████████████████████████████████████████████| 100%\n"
     ]
    }
   ],
   "source": [
    "#Loading in df and splitting training and testing\n",
    "\n",
    "covermymeds = h2o.H2OFrame(df)\n",
    "train, test = covermymeds.split_frame(ratios=[0.8])"
   ]
  },
  {
   "cell_type": "code",
   "execution_count": 35,
   "id": "6f063600",
   "metadata": {},
   "outputs": [],
   "source": [
    "#Setting the training and testing sets\n",
    "\n",
    "training_columns = [\"diagnosis\", \"drug\", \"bin\", \"day\", \"drug_type\"]\n",
    "response_column = \"patient_pay\"\n",
    "\n",
    "train, test = covermymeds.split_frame(ratios=[0.8])"
   ]
  },
  {
   "cell_type": "code",
   "execution_count": 37,
   "id": "151b762e",
   "metadata": {},
   "outputs": [
    {
     "name": "stdout",
     "output_type": "stream",
     "text": [
      "drf Model Build progress: |███████████████████████████████████████████████| 100%\n"
     ]
    }
   ],
   "source": [
    "#building and testing h2o random forest\n",
    "\n",
    "from h2o.estimators import H2ORandomForestEstimator\n",
    "\n",
    "model = H2ORandomForestEstimator(ntrees=50, max_depth=20, nfolds=10)\n",
    "model.train(x=training_columns, y=response_column, training_frame=train)\n"
   ]
  },
  {
   "cell_type": "code",
   "execution_count": 38,
   "id": "50db9446",
   "metadata": {},
   "outputs": [
    {
     "name": "stdout",
     "output_type": "stream",
     "text": [
      "\n",
      "ModelMetricsRegression: drf\n",
      "** Reported on test data. **\n",
      "\n",
      "MSE: 362.4776154060449\n",
      "RMSE: 19.038844907347844\n",
      "MAE: 8.976525293288937\n",
      "RMSLE: 0.44291229534701765\n",
      "Mean Residual Deviance: 362.4776154060449\n",
      "\n"
     ]
    }
   ],
   "source": [
    "#assessing the performance\n",
    "\n",
    "performance = model.model_performance(test_data=test)\n",
    "print(performance)"
   ]
  },
  {
   "cell_type": "code",
   "execution_count": 39,
   "id": "5772ae53",
   "metadata": {},
   "outputs": [
    {
     "name": "stdout",
     "output_type": "stream",
     "text": [
      "drf Model Build progress: |███████████████████████████████████████████████| 100%\n"
     ]
    }
   ],
   "source": [
    "#same as above, but dropping day as a feature.\n",
    "\n",
    "training_columns2 = [\"diagnosis\", \"drug\", \"bin\", \"drug_type\"]\n",
    "response_column = \"patient_pay\"\n",
    "\n",
    "model2 = H2ORandomForestEstimator(ntrees=50, max_depth=20, nfolds=10)\n",
    "model2.train(x=training_columns2, y=response_column, training_frame=train)"
   ]
  },
  {
   "cell_type": "code",
   "execution_count": 40,
   "id": "a3f33c3f",
   "metadata": {},
   "outputs": [
    {
     "name": "stdout",
     "output_type": "stream",
     "text": [
      "\n",
      "ModelMetricsRegression: drf\n",
      "** Reported on test data. **\n",
      "\n",
      "MSE: 402.1061856219034\n",
      "RMSE: 20.05258550965195\n",
      "MAE: 9.961808288213282\n",
      "RMSLE: 0.4704073534086275\n",
      "Mean Residual Deviance: 402.1061856219034\n",
      "\n"
     ]
    }
   ],
   "source": [
    "#assessing the performance (without day), results ended up slightly worse (RMSE)\n",
    "\n",
    "performance2 = model2.model_performance(test_data=test)\n",
    "print(performance2)"
   ]
  },
  {
   "cell_type": "code",
   "execution_count": null,
   "id": "ad9ee766",
   "metadata": {},
   "outputs": [],
   "source": []
  }
 ],
 "metadata": {
  "kernelspec": {
   "display_name": "Python 3 (ipykernel)",
   "language": "python",
   "name": "python3"
  },
  "language_info": {
   "codemirror_mode": {
    "name": "ipython",
    "version": 3
   },
   "file_extension": ".py",
   "mimetype": "text/x-python",
   "name": "python",
   "nbconvert_exporter": "python",
   "pygments_lexer": "ipython3",
   "version": "3.9.12"
  }
 },
 "nbformat": 4,
 "nbformat_minor": 5
}
